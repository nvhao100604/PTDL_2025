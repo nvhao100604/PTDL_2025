{
 "cells": [
  {
   "cell_type": "markdown",
   "id": "c617da5e",
   "metadata": {},
   "source": [
    "# Bài tập thực hành 1.3.3: Tìm hiểu các tính năng và cách sử dụng sản phẩm AutoViz"
   ]
  },
  {
   "cell_type": "markdown",
   "id": "8a9b418d",
   "metadata": {},
   "source": [
    "## 3.1 Giới thiệu"
   ]
  },
  {
   "cell_type": "markdown",
   "id": "2fb1b21f",
   "metadata": {},
   "source": [
    "### AutoViz là một thư viện Python giúp tự động hóa việc trực quan hóa dữ liệu. Nó tạo nhiều loại biểu đồ để phân tích mối quan hệ giữa các biến, phân phối dữ liệu, và các đặc tính quan trọng khác."
   ]
  },
  {
   "cell_type": "markdown",
   "id": "469fa42d",
   "metadata": {},
   "source": [
    "## 3.2 Cài đặt"
   ]
  },
  {
   "cell_type": "code",
   "execution_count": 7,
   "id": "9770cd21",
   "metadata": {},
   "outputs": [],
   "source": [
    "# Cài đặt bằng lệnh:\n",
    "# pip install autoviz\n"
   ]
  },
  {
   "cell_type": "markdown",
   "id": "785fd640",
   "metadata": {},
   "source": [
    "## 3.3 Cách sử dụng"
   ]
  },
  {
   "cell_type": "markdown",
   "id": "957410d6",
   "metadata": {},
   "source": [
    "### Giả sử ta có tệp tin dữ liệu marketing_campaign, file này chứa thông tin mô phỏng của một chiến dịch marketing. Các bản ghi thể hiện thông tin khách hàng và hành vi tham gia chiến dịch."
   ]
  },
  {
   "cell_type": "markdown",
   "id": "af25ec4c",
   "metadata": {},
   "source": [
    "#### Các trường dữ liệu có trong file:\n",
    "#### CustomerID – Mã định danh duy nhất của khách hàng.\n",
    "#### Age – Tuổi của khách hàng.\n",
    "#### Gender – Giới tính (Male / Female).\n",
    "#### Income – Mức thu nhập hàng năm (USD).\n",
    "#### Campaign_Joined – Tên chiến dịch marketing mà khách hàng tham gia (Campaign_A, Campaign_B, v.v.).\n",
    "#### Purchase_Amount – Số tiền mà khách hàng đã chi tiêu trong chiến dịch.\n",
    "#### Channel – Kênh tiếp thị mà khách hàng tiếp cận (Email, Social Media, TV, Web, v.v.)."
   ]
  },
  {
   "cell_type": "code",
   "execution_count": 8,
   "id": "58b27dfa",
   "metadata": {},
   "outputs": [],
   "source": [
    "# Khai báo thư viện\n",
    "from autoviz.AutoViz_Class import AutoViz_Class\n",
    "import pandas as pd\n"
   ]
  },
  {
   "cell_type": "code",
   "execution_count": 9,
   "id": "f2cca6cf",
   "metadata": {},
   "outputs": [
    {
     "name": "stdout",
     "output_type": "stream",
     "text": [
      "Shape of your Data Set loaded: (50, 7)\n",
      "#######################################################################################\n",
      "######################## C L A S S I F Y I N G  V A R I A B L E S  ####################\n",
      "#######################################################################################\n",
      "Classifying variables in data set...\n",
      "    Number of Numeric Columns =  0\n",
      "    Number of Integer-Categorical Columns =  1\n",
      "    Number of String-Categorical Columns =  1\n",
      "    Number of Factor-Categorical Columns =  0\n",
      "    Number of String-Boolean Columns =  2\n",
      "    Number of Numeric-Boolean Columns =  0\n",
      "    Number of Discrete String Columns =  0\n",
      "    Number of NLP String Columns =  0\n",
      "    Number of Date Time Columns =  0\n",
      "    Number of ID Columns =  2\n",
      "    Number of Columns to Delete =  0\n",
      "    6 Predictors classified...\n",
      "        2 variable(s) removed since they were ID or low-information variables\n",
      "        List of variables removed: ['CustomerID', 'Income']\n",
      "\n",
      "################ Regression problem #####################\n",
      "To fix these data quality issues in the dataset, import FixDQ from autoviz...\n",
      "    All variables classified into correct types.\n"
     ]
    },
    {
     "data": {
      "text/html": [
       "<style type=\"text/css\">\n",
       "#T_46827_row0_col0, #T_46827_row0_col3, #T_46827_row0_col4, #T_46827_row0_col5, #T_46827_row1_col0, #T_46827_row1_col3, #T_46827_row1_col4, #T_46827_row1_col5, #T_46827_row2_col0, #T_46827_row2_col3, #T_46827_row2_col4, #T_46827_row2_col5, #T_46827_row3_col0, #T_46827_row3_col3, #T_46827_row3_col4, #T_46827_row3_col5, #T_46827_row4_col0, #T_46827_row4_col3, #T_46827_row4_col4, #T_46827_row4_col5 {\n",
       "  font-family: Segoe UI;\n",
       "}\n",
       "#T_46827_row0_col1, #T_46827_row1_col1, #T_46827_row1_col2, #T_46827_row2_col1, #T_46827_row2_col2, #T_46827_row3_col1, #T_46827_row4_col1 {\n",
       "  background-color: #fff5f0;\n",
       "  color: #000000;\n",
       "  font-family: Segoe UI;\n",
       "}\n",
       "#T_46827_row0_col2 {\n",
       "  background-color: #f14331;\n",
       "  color: #f1f1f1;\n",
       "  font-family: Segoe UI;\n",
       "}\n",
       "#T_46827_row3_col2 {\n",
       "  background-color: #ffeee7;\n",
       "  color: #000000;\n",
       "  font-family: Segoe UI;\n",
       "}\n",
       "#T_46827_row4_col2 {\n",
       "  background-color: #67000d;\n",
       "  color: #f1f1f1;\n",
       "  font-family: Segoe UI;\n",
       "}\n",
       "</style>\n",
       "<table id=\"T_46827\">\n",
       "  <thead>\n",
       "    <tr>\n",
       "      <th class=\"blank level0\" >&nbsp;</th>\n",
       "      <th id=\"T_46827_level0_col0\" class=\"col_heading level0 col0\" >Data Type</th>\n",
       "      <th id=\"T_46827_level0_col1\" class=\"col_heading level0 col1\" >Missing Values%</th>\n",
       "      <th id=\"T_46827_level0_col2\" class=\"col_heading level0 col2\" >Unique Values%</th>\n",
       "      <th id=\"T_46827_level0_col3\" class=\"col_heading level0 col3\" >Minimum Value</th>\n",
       "      <th id=\"T_46827_level0_col4\" class=\"col_heading level0 col4\" >Maximum Value</th>\n",
       "      <th id=\"T_46827_level0_col5\" class=\"col_heading level0 col5\" >DQ Issue</th>\n",
       "    </tr>\n",
       "  </thead>\n",
       "  <tbody>\n",
       "    <tr>\n",
       "      <th id=\"T_46827_level0_row0\" class=\"row_heading level0 row0\" >Age</th>\n",
       "      <td id=\"T_46827_row0_col0\" class=\"data row0 col0\" >int64</td>\n",
       "      <td id=\"T_46827_row0_col1\" class=\"data row0 col1\" >0.000000</td>\n",
       "      <td id=\"T_46827_row0_col2\" class=\"data row0 col2\" >62</td>\n",
       "      <td id=\"T_46827_row0_col3\" class=\"data row0 col3\" >21.000000</td>\n",
       "      <td id=\"T_46827_row0_col4\" class=\"data row0 col4\" >65.000000</td>\n",
       "      <td id=\"T_46827_row0_col5\" class=\"data row0 col5\" >No issue</td>\n",
       "    </tr>\n",
       "    <tr>\n",
       "      <th id=\"T_46827_level0_row1\" class=\"row_heading level0 row1\" >Gender</th>\n",
       "      <td id=\"T_46827_row1_col0\" class=\"data row1 col0\" >object</td>\n",
       "      <td id=\"T_46827_row1_col1\" class=\"data row1 col1\" >0.000000</td>\n",
       "      <td id=\"T_46827_row1_col2\" class=\"data row1 col2\" >4</td>\n",
       "      <td id=\"T_46827_row1_col3\" class=\"data row1 col3\" ></td>\n",
       "      <td id=\"T_46827_row1_col4\" class=\"data row1 col4\" ></td>\n",
       "      <td id=\"T_46827_row1_col5\" class=\"data row1 col5\" >No issue</td>\n",
       "    </tr>\n",
       "    <tr>\n",
       "      <th id=\"T_46827_level0_row2\" class=\"row_heading level0 row2\" >Campaign_Joined</th>\n",
       "      <td id=\"T_46827_row2_col0\" class=\"data row2 col0\" >object</td>\n",
       "      <td id=\"T_46827_row2_col1\" class=\"data row2 col1\" >0.000000</td>\n",
       "      <td id=\"T_46827_row2_col2\" class=\"data row2 col2\" >4</td>\n",
       "      <td id=\"T_46827_row2_col3\" class=\"data row2 col3\" ></td>\n",
       "      <td id=\"T_46827_row2_col4\" class=\"data row2 col4\" ></td>\n",
       "      <td id=\"T_46827_row2_col5\" class=\"data row2 col5\" >No issue</td>\n",
       "    </tr>\n",
       "    <tr>\n",
       "      <th id=\"T_46827_level0_row3\" class=\"row_heading level0 row3\" >Channel</th>\n",
       "      <td id=\"T_46827_row3_col0\" class=\"data row3 col0\" >object</td>\n",
       "      <td id=\"T_46827_row3_col1\" class=\"data row3 col1\" >0.000000</td>\n",
       "      <td id=\"T_46827_row3_col2\" class=\"data row3 col2\" >8</td>\n",
       "      <td id=\"T_46827_row3_col3\" class=\"data row3 col3\" ></td>\n",
       "      <td id=\"T_46827_row3_col4\" class=\"data row3 col4\" ></td>\n",
       "      <td id=\"T_46827_row3_col5\" class=\"data row3 col5\" >No issue</td>\n",
       "    </tr>\n",
       "    <tr>\n",
       "      <th id=\"T_46827_level0_row4\" class=\"row_heading level0 row4\" >Purchase_Amount</th>\n",
       "      <td id=\"T_46827_row4_col0\" class=\"data row4 col0\" >float64</td>\n",
       "      <td id=\"T_46827_row4_col1\" class=\"data row4 col1\" >0.000000</td>\n",
       "      <td id=\"T_46827_row4_col2\" class=\"data row4 col2\" >100</td>\n",
       "      <td id=\"T_46827_row4_col3\" class=\"data row4 col3\" >75.940000</td>\n",
       "      <td id=\"T_46827_row4_col4\" class=\"data row4 col4\" >1947.180000</td>\n",
       "      <td id=\"T_46827_row4_col5\" class=\"data row4 col5\" >Target column</td>\n",
       "    </tr>\n",
       "  </tbody>\n",
       "</table>\n"
      ],
      "text/plain": [
       "<pandas.io.formats.style.Styler at 0x1e6c3fd2110>"
      ]
     },
     "metadata": {},
     "output_type": "display_data"
    },
    {
     "name": "stdout",
     "output_type": "stream",
     "text": [
      "All Plots done\n",
      "Time to run AutoViz = 1 seconds \n",
      "\n",
      " ###################### AUTO VISUALIZATION Completed ########################\n"
     ]
    }
   ],
   "source": [
    "df = pd.read_csv('../data/marketing_campaign.csv')\n",
    "AV = AutoViz_Class()\n",
    "report = AV.AutoViz(\n",
    "    filename='',\n",
    "    dfte=df,\n",
    "    depVar='Purchase_Amount'\n",
    ")\n",
    "# AutoViz sẽ trực tiếp hiển thị các biểu đồ trong notebook (Jupyter Notebook)."
   ]
  },
  {
   "cell_type": "markdown",
   "id": "1c2f3095",
   "metadata": {},
   "source": [
    "# Giải thích kết quả phân tích của AutoViz\n",
    "#### Tập dữ liệu có 50 dòng (bản ghi khách hàng) và 7 cột (thuộc tính).\n",
    "\n",
    "#### AutoViz tự động phân loại kiểu dữ liệu của từng cột để biết cách trực quan hóa.\n",
    "\n",
    "#### | **Numeric Columns**             | Cột dạng số thực (float)                                         | \n",
    "#### | **Integer-Categorical Columns** | Cột số nguyên nhưng mang tính danh mục                           |\n",
    "#### | **String-Categorical Columns**  | Cột dạng chữ thể hiện danh mục (ví dụ giới tính, kênh marketing) |\n",
    "#### | **String-Boolean Columns**      | Cột dạng chữ nhưng chỉ có 2 giá trị (đúng/sai hoặc có/không)     | \n",
    "#### | **Date Time Columns**           | Cột ngày/tháng                                                   | \n",
    "#### | **ID Columns**                  | Cột định danh (mã khách hàng, mã chiến dịch)                     | \n",
    "#### | **Columns to Delete**           | Cột bị loại bỏ do không hữu ích cho phân tích                    | \n",
    "\n"
   ]
  },
  {
   "cell_type": "markdown",
   "id": "e6a245da",
   "metadata": {},
   "source": [
    "#### AutoViz xác định 6 biến độc lập (predictors) — tức là các cột được dùng để phân tích mối quan hệ với biến mục tiêu. \n",
    "#### Trong quá trình này, AutoViz loại bỏ 2 cột ít thông tin hoặc không mang ý nghĩa phân tích:\n",
    "#### CustomerID – chỉ là mã định danh, không ảnh hưởng đến hành vi.\n",
    "#### Income – có thể là cột chứa toàn giá trị giống nhau hoặc bị đánh giá “low-information” (thiếu biến động)."
   ]
  },
  {
   "cell_type": "markdown",
   "id": "5c1a209b",
   "metadata": {},
   "source": [
    "#### AutoViz nhận diện đây là bài toán hồi quy (Regression), tức là biến mục tiêu có dạng số lượng hoặc giá trị liên tục (ví dụ: Purchase_Amount).\n",
    "#### Nếu biến mục tiêu là số tiền hoặc doanh thu, công cụ sẽ chọn các biểu đồ phù hợp (như scatter plot, boxplot, histogram) để mô tả."
   ]
  },
  {
   "cell_type": "markdown",
   "id": "9c3f3a11",
   "metadata": {},
   "source": [
    "### Gợi ý từ AutoViz\n",
    "\n",
    "#### “To fix these data quality issues in the dataset, import FixDQ from autoviz...”\n",
    "\n",
    "#### Thông báo này nhắc rằng, chúng ta có thể dùng công cụ FixDQ (Fix Data Quality) để:\n",
    "#### Xử lý cột trống, dữ liệu sai định dạng.\n",
    "#### Loại bỏ cột không hữu ích.\n",
    "#### Chuẩn hóa kiểu dữ liệu trước khi phân tích."
   ]
  },
  {
   "cell_type": "markdown",
   "id": "e77593be",
   "metadata": {},
   "source": [
    "# Kết thúc"
   ]
  }
 ],
 "metadata": {
  "kernelspec": {
   "display_name": "Python 3",
   "language": "python",
   "name": "python3"
  },
  "language_info": {
   "codemirror_mode": {
    "name": "ipython",
    "version": 3
   },
   "file_extension": ".py",
   "mimetype": "text/x-python",
   "name": "python",
   "nbconvert_exporter": "python",
   "pygments_lexer": "ipython3",
   "version": "3.11.9"
  }
 },
 "nbformat": 4,
 "nbformat_minor": 5
}
