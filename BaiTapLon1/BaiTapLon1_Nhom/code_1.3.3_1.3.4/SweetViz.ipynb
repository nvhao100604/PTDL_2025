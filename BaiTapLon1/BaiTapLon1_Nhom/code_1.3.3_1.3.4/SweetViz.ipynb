{
 "cells": [
  {
   "cell_type": "markdown",
   "id": "396a9bbc",
   "metadata": {},
   "source": [
    "# Bài tập thực hành 1.3.3: Tìm hiểu các tính năng và cách sử dụng sản phẩm SweetViz"
   ]
  },
  {
   "cell_type": "markdown",
   "id": "6c3bc58a",
   "metadata": {},
   "source": [
    "## 1. Giới thiệu"
   ]
  },
  {
   "cell_type": "markdown",
   "id": "dafcb81b",
   "metadata": {},
   "source": [
    "### Trong lĩnh vực phân tích dữ liệu, việc thực hiện EDA (Exploratory Data Analysis) là bước quan trọng để hiểu rõ tập dữ liệu trước khi xây dựng mô hình. Hai công cụ phổ biến hỗ trợ EDA tự động là SweetViz và AutoViz. Báo cáo này sẽ tìm hiểu, hướng dẫn sử dụng và so sánh hai sản phẩm trên."
   ]
  },
  {
   "cell_type": "markdown",
   "id": "a5a3b844",
   "metadata": {},
   "source": [
    "## 2. SweetViz"
   ]
  },
  {
   "cell_type": "markdown",
   "id": "684491f9",
   "metadata": {},
   "source": [
    "### 2.1 Giới thiệu\n",
    "### SweetViz là một thư viện Python được thiết kế để tạo các báo cáo trực quan EDA một cách nhanh chóng. Nó xuất báo cáo dưới dạng file HTML với các biểu đồ, thống kê mô tả, và so sánh dữ liệu."
   ]
  },
  {
   "cell_type": "markdown",
   "id": "a037a4a4",
   "metadata": {},
   "source": [
    "### 2.2 Cài đặt"
   ]
  },
  {
   "cell_type": "code",
   "execution_count": 4,
   "id": "2acd4b51",
   "metadata": {},
   "outputs": [],
   "source": [
    "# Cài đặt bằng lệnh:\n",
    "# pip install sweetviz\n",
    "# Phiên bản numpy phù hợp nhất: pip install numpy==1.23.5\n"
   ]
  },
  {
   "cell_type": "markdown",
   "id": "1ef79468",
   "metadata": {},
   "source": [
    "### 2.3 Cách sử dụng"
   ]
  },
  {
   "cell_type": "markdown",
   "id": "c7d51beb",
   "metadata": {},
   "source": [
    "### Giả sử ta có tệp tin dữ liệu marketing_campaign, file này chứa thông tin mô phỏng của một chiến dịch marketing. Các bản ghi thể hiện thông tin khách hàng và hành vi tham gia chiến dịch."
   ]
  },
  {
   "cell_type": "markdown",
   "id": "91a64d82",
   "metadata": {},
   "source": [
    "#### Các trường dữ liệu có trong file:\n",
    "#### CustomerID – Mã định danh duy nhất của khách hàng.\n",
    "#### Age – Tuổi của khách hàng.\n",
    "#### Gender – Giới tính (Male / Female).\n",
    "#### Income – Mức thu nhập hàng năm (USD).\n",
    "#### Campaign_Joined – Tên chiến dịch marketing mà khách hàng tham gia (Campaign_A, Campaign_B, v.v.).\n",
    "#### Purchase_Amount – Số tiền mà khách hàng đã chi tiêu trong chiến dịch.\n",
    "#### Channel – Kênh tiếp thị mà khách hàng tiếp cận (Email, Social Media, TV, Web, v.v.)."
   ]
  },
  {
   "cell_type": "code",
   "execution_count": 5,
   "id": "31a1ed7c",
   "metadata": {},
   "outputs": [],
   "source": [
    "# Khai báo thư viện \n",
    "import sweetviz as sv\n",
    "import pandas as pd\n",
    "\n",
    "# Phiên bản numpy phù hợp nhất: pip install numpy==1.23.5"
   ]
  },
  {
   "cell_type": "code",
   "execution_count": 6,
   "id": "b77bcbd3",
   "metadata": {},
   "outputs": [
    {
     "data": {
      "application/vnd.jupyter.widget-view+json": {
       "model_id": "5472b7a1ba48463d956e6c13e8603390",
       "version_major": 2,
       "version_minor": 0
      },
      "text/plain": [
       "                                             |          | [  0%]   00:00 -> (? left)"
      ]
     },
     "metadata": {},
     "output_type": "display_data"
    },
    {
     "name": "stdout",
     "output_type": "stream",
     "text": [
      "Report sweetviz_report.html was generated! NOTEBOOK/COLAB USERS: the web browser MAY not pop up, regardless, the report IS saved in your notebook/colab files.\n"
     ]
    }
   ],
   "source": [
    "# Ví dụ sử dụng SweetViz trên tập dữ liệu Marketing Campaign:\n",
    "\n",
    "df = pd.read_csv('../data/marketing_campaign.csv')\n",
    "report = sv.analyze(df)\n",
    "report.show_html('sweetviz_report.html')\n",
    "\n",
    "# Sau khi chạy, báo cáo EDA trực quan được xuất ra file HTML và có thể mở bằng trình duyệt.\n"
   ]
  },
  {
   "cell_type": "markdown",
   "id": "a939528e",
   "metadata": {},
   "source": [
    "# Nhận xét\n",
    "#### Công cụ SweetViz (và cụ thể là phiên bản ydata-profiling dùng trong báo cáo này) đã thực hiện phân tích tự động (EDA) trên tập dữ liệu Marketing Campaign và tạo ra báo cáo chi tiết với các phần chính sau:\n",
    "#### 1. Tổng quan dữ liệu (Overview)\n",
    "#### Số biến (Number of variables): 1\n",
    "#### Số quan sát (Number of observations): 2,240\n",
    "#### Ô bị thiếu (Missing cells): 0 (tức là không có giá trị thiếu)\n",
    "#### Tổng dung lượng dữ liệu trong bộ nhớ: 17.6 KiB\n",
    "#### Kích thước trung bình mỗi bản ghi: 8.1 bytes\n",
    "#### Loại biến: Chỉ có 1 biến dạng Text\n",
    "#### => Điều này cho thấy dữ liệu được nạp vào báo cáo bị gộp thành một cột duy nhất chứa toàn bộ nội dung (các giá trị bị dính tab \\t), có thể do lỗi tách cột trong tệp CSV ban đầu."
   ]
  },
  {
   "cell_type": "markdown",
   "id": "8a9ab081",
   "metadata": {},
   "source": [
    "#### 2. Cảnh báo (Alerts)\n",
    "\n",
    "#### Có 1 cảnh báo:\n",
    "#### Toàn bộ cột “ID Year_Birth Education Marital_Status Income Kidhome Teenhome ... Response” có giá trị duy nhất cho từng dòng\n",
    "#### => Điều này nghĩa là mỗi dòng là một bản ghi hoàn toàn khác nhau, không có giá trị trùng lặp, nhưng do bị dính cột nên hệ thống hiểu nhầm là 1 chuỗi text duy nhất."
   ]
  },
  {
   "cell_type": "markdown",
   "id": "369a6c4f",
   "metadata": {},
   "source": [
    "#### 3. Biến trong dữ liệu (Variables)\n",
    "\n",
    "#### Chỉ có 1 biến dạng Text với tên dài bao gồm tất cả tên cột (ID Year_Birth Education ... Response).\n",
    "#### Số lượng giá trị khác nhau: 2,240 (tức là mỗi dòng duy nhất).\n",
    "#### Giá trị bị thiếu: 0%.\n",
    "#### Dung lượng bộ nhớ: 17.6 KiB\n",
    "#### Độ dài trung bình chuỗi: khoảng 96 ký tự, tối đa 109 ký tự.\n",
    "#### Ký tự Unicode phân tích: 44 loại ký tự khác nhau, thuộc 2 bộ ký tự Unicode."
   ]
  },
  {
   "cell_type": "markdown",
   "id": "164f7ce7",
   "metadata": {},
   "source": [
    "#### 4. Thiếu dữ liệu (Missing Values)\n",
    "\n",
    "#### Báo cáo hiển thị biểu đồ Nullity Matrix, cho thấy toàn bộ dữ liệu đầy đủ, không có cột hay hàng nào bị thiếu."
   ]
  },
  {
   "cell_type": "markdown",
   "id": "541b189b",
   "metadata": {},
   "source": [
    "#### 5. Mẫu dữ liệu (Sample)\n",
    "\n",
    "#### Báo cáo liệt kê 5 dòng đầu tiên, ví dụ:\n",
    "\n",
    "#### 5524 1957 Graduation Single 58138 0 0 04-09-2012 58 635 88 546 ...\n",
    "#### 2174 1954 Graduation Single 46344 1 1 08-03-2014 38 11 1 6 ...\n",
    "\n",
    "#### Điều này xác nhận rằng tệp gốc thực sự có nhiều cột, nhưng do lỗi định dạng khi đọc CSV (dấu phân cách tab \\t hoặc dấu phẩy ,) nên bị coi là một cột duy nhất."
   ]
  },
  {
   "cell_type": "markdown",
   "id": "5e4febee",
   "metadata": {},
   "source": [
    "#### 6. Kết luận\n",
    "\n",
    "#### Công cụ SweetViz (thông qua YData Profiling) đã:\n",
    "#### Phát hiện không có dữ liệu bị thiếu hoặc trùng lặp.\n",
    "#### Xác định rằng dữ liệu hiện tại chưa được tách cột đúng cách.\n",
    "#### Gợi ý rằng cần nạp lại file CSV với đúng delimiter (sep='\\t' hoặc sep=';') để phân tích chính xác hơn."
   ]
  },
  {
   "cell_type": "markdown",
   "id": "df84afc6",
   "metadata": {},
   "source": [
    "# Kết thúc"
   ]
  }
 ],
 "metadata": {
  "kernelspec": {
   "display_name": "Python 3",
   "language": "python",
   "name": "python3"
  },
  "language_info": {
   "codemirror_mode": {
    "name": "ipython",
    "version": 3
   },
   "file_extension": ".py",
   "mimetype": "text/x-python",
   "name": "python",
   "nbconvert_exporter": "python",
   "pygments_lexer": "ipython3",
   "version": "3.11.9"
  }
 },
 "nbformat": 4,
 "nbformat_minor": 5
}
