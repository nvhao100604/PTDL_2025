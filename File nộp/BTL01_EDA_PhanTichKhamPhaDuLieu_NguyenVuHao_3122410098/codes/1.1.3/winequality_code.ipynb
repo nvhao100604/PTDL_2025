{
 "cells": [
  {
   "cell_type": "markdown",
   "id": "b5b600b6",
   "metadata": {},
   "source": [
    "# Cài đặt\n",
    "Import các thư viện liên quan chuẩn bị cho qua trình Thống kê Mô tả.\n",
    "## Import thư viện"
   ]
  },
  {
   "cell_type": "code",
   "execution_count": 24,
   "id": "f23fa218",
   "metadata": {},
   "outputs": [],
   "source": [
    "import numpy as np\n",
    "import pandas as pd\n",
    "import seaborn as sns\n",
    "import matplotlib.pyplot as plt\n",
    "import plotly.express as px\n",
    "from scipy import stats"
   ]
  },
  {
   "cell_type": "markdown",
   "id": "59294dc7",
   "metadata": {},
   "source": [
    "### Tạo thư mục ảnh"
   ]
  },
  {
   "cell_type": "code",
   "execution_count": 25,
   "id": "5353ae9a",
   "metadata": {},
   "outputs": [],
   "source": [
    "import os\n",
    "\n",
    "# 1. Định nghĩa đường dẫn và tên thư mục\n",
    "folder_name = \"images\" \n",
    "\n",
    "# 2. Tạo thư mục\n",
    "os.makedirs(folder_name, exist_ok=True) "
   ]
  },
  {
   "cell_type": "markdown",
   "id": "4cecbbde",
   "metadata": {},
   "source": [
    "## Đọc dữ liệu"
   ]
  },
  {
   "cell_type": "code",
   "execution_count": 26,
   "id": "9ee93904",
   "metadata": {},
   "outputs": [],
   "source": [
    "df = pd.read_csv(\"winequality-red.csv\")"
   ]
  },
  {
   "cell_type": "markdown",
   "id": "eb0a1b0b",
   "metadata": {},
   "source": [
    "## Hiểu dữ liệu\n"
   ]
  },
  {
   "cell_type": "markdown",
   "id": "29fe55c7",
   "metadata": {},
   "source": [
    "## Thông tin ban đầu về tập dữ liệu\n",
    "\n",
    "### Thông tin cơ bản"
   ]
  },
  {
   "cell_type": "code",
   "execution_count": 27,
   "id": "dccb1867",
   "metadata": {},
   "outputs": [
    {
     "name": "stdout",
     "output_type": "stream",
     "text": [
      "<class 'pandas.core.frame.DataFrame'>\n",
      "RangeIndex: 1599 entries, 0 to 1598\n",
      "Data columns (total 12 columns):\n",
      " #   Column                Non-Null Count  Dtype  \n",
      "---  ------                --------------  -----  \n",
      " 0   fixed acidity         1599 non-null   float64\n",
      " 1   volatile acidity      1599 non-null   float64\n",
      " 2   citric acid           1599 non-null   float64\n",
      " 3   residual sugar        1599 non-null   float64\n",
      " 4   chlorides             1599 non-null   float64\n",
      " 5   free sulfur dioxide   1599 non-null   float64\n",
      " 6   total sulfur dioxide  1599 non-null   float64\n",
      " 7   density               1599 non-null   float64\n",
      " 8   pH                    1599 non-null   float64\n",
      " 9   sulphates             1599 non-null   float64\n",
      " 10  alcohol               1599 non-null   float64\n",
      " 11  quality               1599 non-null   int64  \n",
      "dtypes: float64(11), int64(1)\n",
      "memory usage: 150.0 KB\n"
     ]
    }
   ],
   "source": [
    "df.info()"
   ]
  },
  {
   "cell_type": "code",
   "execution_count": 28,
   "id": "e02c40e2",
   "metadata": {},
   "outputs": [
    {
     "name": "stdout",
     "output_type": "stream",
     "text": [
      "(Số dòng, số cột) =  (1599, 12)\n"
     ]
    },
    {
     "data": {
      "text/html": [
       "<div>\n",
       "<style scoped>\n",
       "    .dataframe tbody tr th:only-of-type {\n",
       "        vertical-align: middle;\n",
       "    }\n",
       "\n",
       "    .dataframe tbody tr th {\n",
       "        vertical-align: top;\n",
       "    }\n",
       "\n",
       "    .dataframe thead th {\n",
       "        text-align: right;\n",
       "    }\n",
       "</style>\n",
       "<table border=\"1\" class=\"dataframe\">\n",
       "  <thead>\n",
       "    <tr style=\"text-align: right;\">\n",
       "      <th></th>\n",
       "      <th>fixed acidity</th>\n",
       "      <th>volatile acidity</th>\n",
       "      <th>citric acid</th>\n",
       "      <th>residual sugar</th>\n",
       "      <th>chlorides</th>\n",
       "      <th>free sulfur dioxide</th>\n",
       "      <th>total sulfur dioxide</th>\n",
       "      <th>density</th>\n",
       "      <th>pH</th>\n",
       "      <th>sulphates</th>\n",
       "      <th>alcohol</th>\n",
       "      <th>quality</th>\n",
       "    </tr>\n",
       "  </thead>\n",
       "  <tbody>\n",
       "    <tr>\n",
       "      <th>0</th>\n",
       "      <td>7.4</td>\n",
       "      <td>0.70</td>\n",
       "      <td>0.00</td>\n",
       "      <td>1.9</td>\n",
       "      <td>0.076</td>\n",
       "      <td>11.0</td>\n",
       "      <td>34.0</td>\n",
       "      <td>0.9978</td>\n",
       "      <td>3.51</td>\n",
       "      <td>0.56</td>\n",
       "      <td>9.4</td>\n",
       "      <td>5</td>\n",
       "    </tr>\n",
       "    <tr>\n",
       "      <th>1</th>\n",
       "      <td>7.8</td>\n",
       "      <td>0.88</td>\n",
       "      <td>0.00</td>\n",
       "      <td>2.6</td>\n",
       "      <td>0.098</td>\n",
       "      <td>25.0</td>\n",
       "      <td>67.0</td>\n",
       "      <td>0.9968</td>\n",
       "      <td>3.20</td>\n",
       "      <td>0.68</td>\n",
       "      <td>9.8</td>\n",
       "      <td>5</td>\n",
       "    </tr>\n",
       "    <tr>\n",
       "      <th>2</th>\n",
       "      <td>7.8</td>\n",
       "      <td>0.76</td>\n",
       "      <td>0.04</td>\n",
       "      <td>2.3</td>\n",
       "      <td>0.092</td>\n",
       "      <td>15.0</td>\n",
       "      <td>54.0</td>\n",
       "      <td>0.9970</td>\n",
       "      <td>3.26</td>\n",
       "      <td>0.65</td>\n",
       "      <td>9.8</td>\n",
       "      <td>5</td>\n",
       "    </tr>\n",
       "    <tr>\n",
       "      <th>3</th>\n",
       "      <td>11.2</td>\n",
       "      <td>0.28</td>\n",
       "      <td>0.56</td>\n",
       "      <td>1.9</td>\n",
       "      <td>0.075</td>\n",
       "      <td>17.0</td>\n",
       "      <td>60.0</td>\n",
       "      <td>0.9980</td>\n",
       "      <td>3.16</td>\n",
       "      <td>0.58</td>\n",
       "      <td>9.8</td>\n",
       "      <td>6</td>\n",
       "    </tr>\n",
       "    <tr>\n",
       "      <th>4</th>\n",
       "      <td>7.4</td>\n",
       "      <td>0.70</td>\n",
       "      <td>0.00</td>\n",
       "      <td>1.9</td>\n",
       "      <td>0.076</td>\n",
       "      <td>11.0</td>\n",
       "      <td>34.0</td>\n",
       "      <td>0.9978</td>\n",
       "      <td>3.51</td>\n",
       "      <td>0.56</td>\n",
       "      <td>9.4</td>\n",
       "      <td>5</td>\n",
       "    </tr>\n",
       "  </tbody>\n",
       "</table>\n",
       "</div>"
      ],
      "text/plain": [
       "   fixed acidity  volatile acidity  citric acid  residual sugar  chlorides  \\\n",
       "0            7.4              0.70         0.00             1.9      0.076   \n",
       "1            7.8              0.88         0.00             2.6      0.098   \n",
       "2            7.8              0.76         0.04             2.3      0.092   \n",
       "3           11.2              0.28         0.56             1.9      0.075   \n",
       "4            7.4              0.70         0.00             1.9      0.076   \n",
       "\n",
       "   free sulfur dioxide  total sulfur dioxide  density    pH  sulphates  \\\n",
       "0                 11.0                  34.0   0.9978  3.51       0.56   \n",
       "1                 25.0                  67.0   0.9968  3.20       0.68   \n",
       "2                 15.0                  54.0   0.9970  3.26       0.65   \n",
       "3                 17.0                  60.0   0.9980  3.16       0.58   \n",
       "4                 11.0                  34.0   0.9978  3.51       0.56   \n",
       "\n",
       "   alcohol  quality  \n",
       "0      9.4        5  \n",
       "1      9.8        5  \n",
       "2      9.8        5  \n",
       "3      9.8        6  \n",
       "4      9.4        5  "
      ]
     },
     "execution_count": 28,
     "metadata": {},
     "output_type": "execute_result"
    }
   ],
   "source": [
    "# Số hàng, số cột của dataset\n",
    "print(\"(Số dòng, số cột) = \" , str(df.shape))\n",
    "# Hiển thị 5 hàng đầu tiên của dataset\n",
    "df.head()"
   ]
  },
  {
   "cell_type": "markdown",
   "id": "c74835b2",
   "metadata": {},
   "source": [
    "Tổng cộng dataset có 1599 hàng và 12 cột. Nhìn có vẻ không có vấn đề nhưng cần kiểm tra thêm để chắc chắn không có hàng nào có giá trị bị thiếu."
   ]
  },
  {
   "cell_type": "code",
   "execution_count": 29,
   "id": "ca2f211e",
   "metadata": {},
   "outputs": [
    {
     "name": "stdout",
     "output_type": "stream",
     "text": [
      "ModeResult(mode=5, count=681) 0.6517605398308277 6.0 6.0 1.0\n"
     ]
    }
   ],
   "source": [
    "# Get the mode of the data\n",
    "data_mode = stats.mode(df[\"quality\"])\n",
    "# Obtain the variance of the data\n",
    "data_variance = np.var(df[\"quality\"])\n",
    "# Obtain the 50th percentile of the data\n",
    "data_percentile = np.percentile(df[\"quality\"],50)\n",
    "# Obtain the quartiles of the data\n",
    "data_quartile = np.quantile(df[\"quality\"],0.75)\n",
    "# Get the IQR of the data\n",
    "data_IQR = stats.iqr(df[\"quality\"])\n",
    "print(data_mode, data_variance, data_percentile, data_quartile, data_IQR)"
   ]
  },
  {
   "cell_type": "markdown",
   "id": "667a2402",
   "metadata": {},
   "source": [
    "## Thống kê mô tả của các biến số"
   ]
  },
  {
   "cell_type": "code",
   "execution_count": 30,
   "id": "955648b9",
   "metadata": {},
   "outputs": [
    {
     "data": {
      "text/html": [
       "<style type=\"text/css\">\n",
       "#T_d99a3_row0_col0, #T_d99a3_row1_col0, #T_d99a3_row1_col7, #T_d99a3_row2_col0, #T_d99a3_row2_col3, #T_d99a3_row2_col4, #T_d99a3_row2_col7, #T_d99a3_row3_col0, #T_d99a3_row4_col0, #T_d99a3_row4_col1, #T_d99a3_row4_col2, #T_d99a3_row4_col3, #T_d99a3_row4_col4, #T_d99a3_row4_col5, #T_d99a3_row4_col6, #T_d99a3_row4_col7, #T_d99a3_row5_col0, #T_d99a3_row6_col0, #T_d99a3_row7_col0, #T_d99a3_row7_col2, #T_d99a3_row7_col7, #T_d99a3_row8_col0, #T_d99a3_row9_col0, #T_d99a3_row10_col0, #T_d99a3_row11_col0 {\n",
       "  background-color: #000004;\n",
       "  color: #f1f1f1;\n",
       "}\n",
       "#T_d99a3_row0_col1, #T_d99a3_row10_col6 {\n",
       "  background-color: #311165;\n",
       "  color: #f1f1f1;\n",
       "}\n",
       "#T_d99a3_row0_col2, #T_d99a3_row0_col7, #T_d99a3_row3_col1, #T_d99a3_row3_col7, #T_d99a3_row8_col6 {\n",
       "  background-color: #07061c;\n",
       "  color: #f1f1f1;\n",
       "}\n",
       "#T_d99a3_row0_col3 {\n",
       "  background-color: #ca3e72;\n",
       "  color: #f1f1f1;\n",
       "}\n",
       "#T_d99a3_row0_col4 {\n",
       "  background-color: #6d1d81;\n",
       "  color: #f1f1f1;\n",
       "}\n",
       "#T_d99a3_row0_col5 {\n",
       "  background-color: #3d0f71;\n",
       "  color: #f1f1f1;\n",
       "}\n",
       "#T_d99a3_row0_col6 {\n",
       "  background-color: #241253;\n",
       "  color: #f1f1f1;\n",
       "}\n",
       "#T_d99a3_row1_col1, #T_d99a3_row1_col5, #T_d99a3_row1_col6, #T_d99a3_row9_col6 {\n",
       "  background-color: #010106;\n",
       "  color: #f1f1f1;\n",
       "}\n",
       "#T_d99a3_row1_col2, #T_d99a3_row2_col1, #T_d99a3_row2_col2, #T_d99a3_row2_col5, #T_d99a3_row2_col6, #T_d99a3_row8_col2, #T_d99a3_row9_col2, #T_d99a3_row9_col7 {\n",
       "  background-color: #010005;\n",
       "  color: #f1f1f1;\n",
       "}\n",
       "#T_d99a3_row1_col3, #T_d99a3_row1_col4, #T_d99a3_row7_col6, #T_d99a3_row8_col7, #T_d99a3_row9_col1, #T_d99a3_row9_col5 {\n",
       "  background-color: #010108;\n",
       "  color: #f1f1f1;\n",
       "}\n",
       "#T_d99a3_row3_col2, #T_d99a3_row3_col6, #T_d99a3_row7_col4, #T_d99a3_row9_col3 {\n",
       "  background-color: #050416;\n",
       "  color: #f1f1f1;\n",
       "}\n",
       "#T_d99a3_row3_col3 {\n",
       "  background-color: #160f3b;\n",
       "  color: #f1f1f1;\n",
       "}\n",
       "#T_d99a3_row3_col4, #T_d99a3_row8_col5 {\n",
       "  background-color: #100b2d;\n",
       "  color: #f1f1f1;\n",
       "}\n",
       "#T_d99a3_row3_col5 {\n",
       "  background-color: #08071e;\n",
       "  color: #f1f1f1;\n",
       "}\n",
       "#T_d99a3_row5_col1 {\n",
       "  background-color: #752181;\n",
       "  color: #f1f1f1;\n",
       "}\n",
       "#T_d99a3_row5_col2 {\n",
       "  background-color: #6b1d81;\n",
       "  color: #f1f1f1;\n",
       "}\n",
       "#T_d99a3_row5_col3, #T_d99a3_row7_col3, #T_d99a3_row11_col1 {\n",
       "  background-color: #1a1042;\n",
       "  color: #f1f1f1;\n",
       "}\n",
       "#T_d99a3_row5_col4 {\n",
       "  background-color: #6a1c81;\n",
       "  color: #f1f1f1;\n",
       "}\n",
       "#T_d99a3_row5_col5 {\n",
       "  background-color: #7e2482;\n",
       "  color: #f1f1f1;\n",
       "}\n",
       "#T_d99a3_row5_col6 {\n",
       "  background-color: #732081;\n",
       "  color: #f1f1f1;\n",
       "}\n",
       "#T_d99a3_row5_col7 {\n",
       "  background-color: #4f127b;\n",
       "  color: #f1f1f1;\n",
       "}\n",
       "#T_d99a3_row6_col1, #T_d99a3_row6_col2, #T_d99a3_row6_col4, #T_d99a3_row6_col5, #T_d99a3_row6_col6, #T_d99a3_row6_col7, #T_d99a3_row10_col3 {\n",
       "  background-color: #fcfdbf;\n",
       "  color: #000000;\n",
       "}\n",
       "#T_d99a3_row6_col3 {\n",
       "  background-color: #f8765c;\n",
       "  color: #f1f1f1;\n",
       "}\n",
       "#T_d99a3_row7_col1, #T_d99a3_row9_col4 {\n",
       "  background-color: #02020b;\n",
       "  color: #f1f1f1;\n",
       "}\n",
       "#T_d99a3_row7_col5, #T_d99a3_row11_col2, #T_d99a3_row11_col7 {\n",
       "  background-color: #02020d;\n",
       "  color: #f1f1f1;\n",
       "}\n",
       "#T_d99a3_row8_col1 {\n",
       "  background-color: #0b0924;\n",
       "  color: #f1f1f1;\n",
       "}\n",
       "#T_d99a3_row8_col3 {\n",
       "  background-color: #6e1e81;\n",
       "  color: #f1f1f1;\n",
       "}\n",
       "#T_d99a3_row8_col4 {\n",
       "  background-color: #221150;\n",
       "  color: #f1f1f1;\n",
       "}\n",
       "#T_d99a3_row10_col1, #T_d99a3_row11_col4 {\n",
       "  background-color: #451077;\n",
       "  color: #f1f1f1;\n",
       "}\n",
       "#T_d99a3_row10_col2 {\n",
       "  background-color: #030312;\n",
       "  color: #f1f1f1;\n",
       "}\n",
       "#T_d99a3_row10_col4 {\n",
       "  background-color: #992d80;\n",
       "  color: #f1f1f1;\n",
       "}\n",
       "#T_d99a3_row10_col5 {\n",
       "  background-color: #57157e;\n",
       "  color: #f1f1f1;\n",
       "}\n",
       "#T_d99a3_row10_col7 {\n",
       "  background-color: #06051a;\n",
       "  color: #f1f1f1;\n",
       "}\n",
       "#T_d99a3_row11_col3 {\n",
       "  background-color: #7b2382;\n",
       "  color: #f1f1f1;\n",
       "}\n",
       "#T_d99a3_row11_col5 {\n",
       "  background-color: #271258;\n",
       "  color: #f1f1f1;\n",
       "}\n",
       "#T_d99a3_row11_col6 {\n",
       "  background-color: #130d34;\n",
       "  color: #f1f1f1;\n",
       "}\n",
       "</style>\n",
       "<table id=\"T_d99a3\">\n",
       "  <thead>\n",
       "    <tr>\n",
       "      <th class=\"blank level0\" >&nbsp;</th>\n",
       "      <th id=\"T_d99a3_level0_col0\" class=\"col_heading level0 col0\" >count</th>\n",
       "      <th id=\"T_d99a3_level0_col1\" class=\"col_heading level0 col1\" >mean</th>\n",
       "      <th id=\"T_d99a3_level0_col2\" class=\"col_heading level0 col2\" >std</th>\n",
       "      <th id=\"T_d99a3_level0_col3\" class=\"col_heading level0 col3\" >min</th>\n",
       "      <th id=\"T_d99a3_level0_col4\" class=\"col_heading level0 col4\" >25%</th>\n",
       "      <th id=\"T_d99a3_level0_col5\" class=\"col_heading level0 col5\" >50%</th>\n",
       "      <th id=\"T_d99a3_level0_col6\" class=\"col_heading level0 col6\" >75%</th>\n",
       "      <th id=\"T_d99a3_level0_col7\" class=\"col_heading level0 col7\" >max</th>\n",
       "    </tr>\n",
       "  </thead>\n",
       "  <tbody>\n",
       "    <tr>\n",
       "      <th id=\"T_d99a3_level0_row0\" class=\"row_heading level0 row0\" >fixed acidity</th>\n",
       "      <td id=\"T_d99a3_row0_col0\" class=\"data row0 col0\" >1599.000000</td>\n",
       "      <td id=\"T_d99a3_row0_col1\" class=\"data row0 col1\" >8.319637</td>\n",
       "      <td id=\"T_d99a3_row0_col2\" class=\"data row0 col2\" >1.741096</td>\n",
       "      <td id=\"T_d99a3_row0_col3\" class=\"data row0 col3\" >4.600000</td>\n",
       "      <td id=\"T_d99a3_row0_col4\" class=\"data row0 col4\" >7.100000</td>\n",
       "      <td id=\"T_d99a3_row0_col5\" class=\"data row0 col5\" >7.900000</td>\n",
       "      <td id=\"T_d99a3_row0_col6\" class=\"data row0 col6\" >9.200000</td>\n",
       "      <td id=\"T_d99a3_row0_col7\" class=\"data row0 col7\" >15.900000</td>\n",
       "    </tr>\n",
       "    <tr>\n",
       "      <th id=\"T_d99a3_level0_row1\" class=\"row_heading level0 row1\" >volatile acidity</th>\n",
       "      <td id=\"T_d99a3_row1_col0\" class=\"data row1 col0\" >1599.000000</td>\n",
       "      <td id=\"T_d99a3_row1_col1\" class=\"data row1 col1\" >0.527821</td>\n",
       "      <td id=\"T_d99a3_row1_col2\" class=\"data row1 col2\" >0.179060</td>\n",
       "      <td id=\"T_d99a3_row1_col3\" class=\"data row1 col3\" >0.120000</td>\n",
       "      <td id=\"T_d99a3_row1_col4\" class=\"data row1 col4\" >0.390000</td>\n",
       "      <td id=\"T_d99a3_row1_col5\" class=\"data row1 col5\" >0.520000</td>\n",
       "      <td id=\"T_d99a3_row1_col6\" class=\"data row1 col6\" >0.640000</td>\n",
       "      <td id=\"T_d99a3_row1_col7\" class=\"data row1 col7\" >1.580000</td>\n",
       "    </tr>\n",
       "    <tr>\n",
       "      <th id=\"T_d99a3_level0_row2\" class=\"row_heading level0 row2\" >citric acid</th>\n",
       "      <td id=\"T_d99a3_row2_col0\" class=\"data row2 col0\" >1599.000000</td>\n",
       "      <td id=\"T_d99a3_row2_col1\" class=\"data row2 col1\" >0.270976</td>\n",
       "      <td id=\"T_d99a3_row2_col2\" class=\"data row2 col2\" >0.194801</td>\n",
       "      <td id=\"T_d99a3_row2_col3\" class=\"data row2 col3\" >0.000000</td>\n",
       "      <td id=\"T_d99a3_row2_col4\" class=\"data row2 col4\" >0.090000</td>\n",
       "      <td id=\"T_d99a3_row2_col5\" class=\"data row2 col5\" >0.260000</td>\n",
       "      <td id=\"T_d99a3_row2_col6\" class=\"data row2 col6\" >0.420000</td>\n",
       "      <td id=\"T_d99a3_row2_col7\" class=\"data row2 col7\" >1.000000</td>\n",
       "    </tr>\n",
       "    <tr>\n",
       "      <th id=\"T_d99a3_level0_row3\" class=\"row_heading level0 row3\" >residual sugar</th>\n",
       "      <td id=\"T_d99a3_row3_col0\" class=\"data row3 col0\" >1599.000000</td>\n",
       "      <td id=\"T_d99a3_row3_col1\" class=\"data row3 col1\" >2.538806</td>\n",
       "      <td id=\"T_d99a3_row3_col2\" class=\"data row3 col2\" >1.409928</td>\n",
       "      <td id=\"T_d99a3_row3_col3\" class=\"data row3 col3\" >0.900000</td>\n",
       "      <td id=\"T_d99a3_row3_col4\" class=\"data row3 col4\" >1.900000</td>\n",
       "      <td id=\"T_d99a3_row3_col5\" class=\"data row3 col5\" >2.200000</td>\n",
       "      <td id=\"T_d99a3_row3_col6\" class=\"data row3 col6\" >2.600000</td>\n",
       "      <td id=\"T_d99a3_row3_col7\" class=\"data row3 col7\" >15.500000</td>\n",
       "    </tr>\n",
       "    <tr>\n",
       "      <th id=\"T_d99a3_level0_row4\" class=\"row_heading level0 row4\" >chlorides</th>\n",
       "      <td id=\"T_d99a3_row4_col0\" class=\"data row4 col0\" >1599.000000</td>\n",
       "      <td id=\"T_d99a3_row4_col1\" class=\"data row4 col1\" >0.087467</td>\n",
       "      <td id=\"T_d99a3_row4_col2\" class=\"data row4 col2\" >0.047065</td>\n",
       "      <td id=\"T_d99a3_row4_col3\" class=\"data row4 col3\" >0.012000</td>\n",
       "      <td id=\"T_d99a3_row4_col4\" class=\"data row4 col4\" >0.070000</td>\n",
       "      <td id=\"T_d99a3_row4_col5\" class=\"data row4 col5\" >0.079000</td>\n",
       "      <td id=\"T_d99a3_row4_col6\" class=\"data row4 col6\" >0.090000</td>\n",
       "      <td id=\"T_d99a3_row4_col7\" class=\"data row4 col7\" >0.611000</td>\n",
       "    </tr>\n",
       "    <tr>\n",
       "      <th id=\"T_d99a3_level0_row5\" class=\"row_heading level0 row5\" >free sulfur dioxide</th>\n",
       "      <td id=\"T_d99a3_row5_col0\" class=\"data row5 col0\" >1599.000000</td>\n",
       "      <td id=\"T_d99a3_row5_col1\" class=\"data row5 col1\" >15.874922</td>\n",
       "      <td id=\"T_d99a3_row5_col2\" class=\"data row5 col2\" >10.460157</td>\n",
       "      <td id=\"T_d99a3_row5_col3\" class=\"data row5 col3\" >1.000000</td>\n",
       "      <td id=\"T_d99a3_row5_col4\" class=\"data row5 col4\" >7.000000</td>\n",
       "      <td id=\"T_d99a3_row5_col5\" class=\"data row5 col5\" >14.000000</td>\n",
       "      <td id=\"T_d99a3_row5_col6\" class=\"data row5 col6\" >21.000000</td>\n",
       "      <td id=\"T_d99a3_row5_col7\" class=\"data row5 col7\" >72.000000</td>\n",
       "    </tr>\n",
       "    <tr>\n",
       "      <th id=\"T_d99a3_level0_row6\" class=\"row_heading level0 row6\" >total sulfur dioxide</th>\n",
       "      <td id=\"T_d99a3_row6_col0\" class=\"data row6 col0\" >1599.000000</td>\n",
       "      <td id=\"T_d99a3_row6_col1\" class=\"data row6 col1\" >46.467792</td>\n",
       "      <td id=\"T_d99a3_row6_col2\" class=\"data row6 col2\" >32.895324</td>\n",
       "      <td id=\"T_d99a3_row6_col3\" class=\"data row6 col3\" >6.000000</td>\n",
       "      <td id=\"T_d99a3_row6_col4\" class=\"data row6 col4\" >22.000000</td>\n",
       "      <td id=\"T_d99a3_row6_col5\" class=\"data row6 col5\" >38.000000</td>\n",
       "      <td id=\"T_d99a3_row6_col6\" class=\"data row6 col6\" >62.000000</td>\n",
       "      <td id=\"T_d99a3_row6_col7\" class=\"data row6 col7\" >289.000000</td>\n",
       "    </tr>\n",
       "    <tr>\n",
       "      <th id=\"T_d99a3_level0_row7\" class=\"row_heading level0 row7\" >density</th>\n",
       "      <td id=\"T_d99a3_row7_col0\" class=\"data row7 col0\" >1599.000000</td>\n",
       "      <td id=\"T_d99a3_row7_col1\" class=\"data row7 col1\" >0.996747</td>\n",
       "      <td id=\"T_d99a3_row7_col2\" class=\"data row7 col2\" >0.001887</td>\n",
       "      <td id=\"T_d99a3_row7_col3\" class=\"data row7 col3\" >0.990070</td>\n",
       "      <td id=\"T_d99a3_row7_col4\" class=\"data row7 col4\" >0.995600</td>\n",
       "      <td id=\"T_d99a3_row7_col5\" class=\"data row7 col5\" >0.996750</td>\n",
       "      <td id=\"T_d99a3_row7_col6\" class=\"data row7 col6\" >0.997835</td>\n",
       "      <td id=\"T_d99a3_row7_col7\" class=\"data row7 col7\" >1.003690</td>\n",
       "    </tr>\n",
       "    <tr>\n",
       "      <th id=\"T_d99a3_level0_row8\" class=\"row_heading level0 row8\" >pH</th>\n",
       "      <td id=\"T_d99a3_row8_col0\" class=\"data row8 col0\" >1599.000000</td>\n",
       "      <td id=\"T_d99a3_row8_col1\" class=\"data row8 col1\" >3.311113</td>\n",
       "      <td id=\"T_d99a3_row8_col2\" class=\"data row8 col2\" >0.154386</td>\n",
       "      <td id=\"T_d99a3_row8_col3\" class=\"data row8 col3\" >2.740000</td>\n",
       "      <td id=\"T_d99a3_row8_col4\" class=\"data row8 col4\" >3.210000</td>\n",
       "      <td id=\"T_d99a3_row8_col5\" class=\"data row8 col5\" >3.310000</td>\n",
       "      <td id=\"T_d99a3_row8_col6\" class=\"data row8 col6\" >3.400000</td>\n",
       "      <td id=\"T_d99a3_row8_col7\" class=\"data row8 col7\" >4.010000</td>\n",
       "    </tr>\n",
       "    <tr>\n",
       "      <th id=\"T_d99a3_level0_row9\" class=\"row_heading level0 row9\" >sulphates</th>\n",
       "      <td id=\"T_d99a3_row9_col0\" class=\"data row9 col0\" >1599.000000</td>\n",
       "      <td id=\"T_d99a3_row9_col1\" class=\"data row9 col1\" >0.658149</td>\n",
       "      <td id=\"T_d99a3_row9_col2\" class=\"data row9 col2\" >0.169507</td>\n",
       "      <td id=\"T_d99a3_row9_col3\" class=\"data row9 col3\" >0.330000</td>\n",
       "      <td id=\"T_d99a3_row9_col4\" class=\"data row9 col4\" >0.550000</td>\n",
       "      <td id=\"T_d99a3_row9_col5\" class=\"data row9 col5\" >0.620000</td>\n",
       "      <td id=\"T_d99a3_row9_col6\" class=\"data row9 col6\" >0.730000</td>\n",
       "      <td id=\"T_d99a3_row9_col7\" class=\"data row9 col7\" >2.000000</td>\n",
       "    </tr>\n",
       "    <tr>\n",
       "      <th id=\"T_d99a3_level0_row10\" class=\"row_heading level0 row10\" >alcohol</th>\n",
       "      <td id=\"T_d99a3_row10_col0\" class=\"data row10 col0\" >1599.000000</td>\n",
       "      <td id=\"T_d99a3_row10_col1\" class=\"data row10 col1\" >10.422983</td>\n",
       "      <td id=\"T_d99a3_row10_col2\" class=\"data row10 col2\" >1.065668</td>\n",
       "      <td id=\"T_d99a3_row10_col3\" class=\"data row10 col3\" >8.400000</td>\n",
       "      <td id=\"T_d99a3_row10_col4\" class=\"data row10 col4\" >9.500000</td>\n",
       "      <td id=\"T_d99a3_row10_col5\" class=\"data row10 col5\" >10.200000</td>\n",
       "      <td id=\"T_d99a3_row10_col6\" class=\"data row10 col6\" >11.100000</td>\n",
       "      <td id=\"T_d99a3_row10_col7\" class=\"data row10 col7\" >14.900000</td>\n",
       "    </tr>\n",
       "    <tr>\n",
       "      <th id=\"T_d99a3_level0_row11\" class=\"row_heading level0 row11\" >quality</th>\n",
       "      <td id=\"T_d99a3_row11_col0\" class=\"data row11 col0\" >1599.000000</td>\n",
       "      <td id=\"T_d99a3_row11_col1\" class=\"data row11 col1\" >5.636023</td>\n",
       "      <td id=\"T_d99a3_row11_col2\" class=\"data row11 col2\" >0.807569</td>\n",
       "      <td id=\"T_d99a3_row11_col3\" class=\"data row11 col3\" >3.000000</td>\n",
       "      <td id=\"T_d99a3_row11_col4\" class=\"data row11 col4\" >5.000000</td>\n",
       "      <td id=\"T_d99a3_row11_col5\" class=\"data row11 col5\" >6.000000</td>\n",
       "      <td id=\"T_d99a3_row11_col6\" class=\"data row11 col6\" >6.000000</td>\n",
       "      <td id=\"T_d99a3_row11_col7\" class=\"data row11 col7\" >8.000000</td>\n",
       "    </tr>\n",
       "  </tbody>\n",
       "</table>\n"
      ],
      "text/plain": [
       "<pandas.io.formats.style.Styler at 0x1e186170e20>"
      ]
     },
     "execution_count": 30,
     "metadata": {},
     "output_type": "execute_result"
    }
   ],
   "source": [
    "df.describe().T.style.background_gradient(cmap = \"magma\")"
   ]
  },
  {
   "cell_type": "markdown",
   "id": "d0a989a4",
   "metadata": {},
   "source": [
    "#### Xu hướng Tập trung (Điểm Chất lượng Điển hình)\n",
    "Trung bình (mean): Điểm chất lượng trung bình của 1599 mẫu rượu vang là 5.636. Trung vị (50%): Điểm chất lượng trung vị là 6.000. Số liệu này cho thấy hầu hết các mẫu rượu vang đều có chất lượng tập trung quanh mức 5 và 6. Trung bình bị \"nhạy cảm\" và bị kéo về phía đuôi dài (phía các giá trị cực đoan). Do đó, 5.64 không còn là giá trị đại diện chính xác cho \"điểm điển hình\" của đa số mẫu rượu vang. Ngoài ra, đây là dữ liệu thứ bậc (thang điểm) nên Trung vị (6.0) là thước đo xu hướng tập trung đáng tin cậy hơn Trung bình (5.64).\n",
    "\n",
    "#### Độ Phân tán và Phạm vi\n",
    "Phạm vi (Range): Điểm chất lượng trải rộng từ mức tối thiểu (min) là 3.0 đến mức tối đa (max) là 8.0, độ lệch chuẩn là 0.8075. Đây là mức phân tán tương đối nhỏ so với tổng phạm vi 5.0 điểm, cho thấy phần lớn các điểm chất lượng tập trung khá chặt chẽ quanh mức 5 và 6. Mặc dù có tồn tại các mẫu đạt điểm 3 và 8, nhưng chúng là số ít (giá trị ngoại lai hoặc hiếm gặp). \n",
    "\n",
    "Khoảng Tứ phân vị (IQR): Khoảng chứa 50% dữ liệu trung tâm là Q3−Q1, tức là 6.0−5.0=1.0. Điều này có nghĩa là một nửa số mẫu rượu vang có điểm chất lượng nằm trong khoảng 1 điểm (từ 5 đến 6), cho thấy sự đồng nhất cao ở khu vực trung tâm. IQR là thước đo phân tán mạnh mẽ (robust) vì nó hoàn toàn bỏ qua các giá trị ngoại lai (cực đoan) nằm ngoài Q1 và Q3, chỉ tập trung vào mức độ phân tán của phần lớn các mẫu điển hình, thể hiện sự ổn định của dữ liệu.\n",
    "\n",
    "#### Hình dạng Phân bố (Tính Lệch)\n",
    "Trung bình (5.64) nhỏ hơn Trung vị (6.00), cho thấy phân bố chất lượng có xu hướng lệch trái (Negatively Skewed). Điều này ngụ ý rằng đa số các mẫu rượu vang đạt được mức chất lượng cao (50% mẫu đạt 6 điểm trở lên), nhưng có một số lượng nhỏ các mẫu có chất lượng rất thấp (điểm 3 và 4) đã kéo điểm Trung bình xuống dưới Trung vị.\n",
    "\n",
    "#### Phân nhóm Dữ liệu\n",
    "Phân vị 25% (Q1): 25% các mẫu rượu vang có điểm chất lượng là 5.0 trở xuống.\n",
    "\n",
    "Phân vị 75% (Q3): 75% các mẫu rượu vang có điểm chất lượng là 6.0 trở xuống.\n",
    "\n",
    "Ghi nhận: Chỉ có 25% mẫu đạt điểm chất lượng cao hơn 6.0, điều này xác nhận phần lớn các mẫu rượu trong tập dữ liệu nằm ở mức trung bình (5 và 6)."
   ]
  },
  {
   "cell_type": "code",
   "execution_count": 31,
   "id": "27a08e7d",
   "metadata": {},
   "outputs": [],
   "source": [
    "# Khoảng Tứ phân vị (IQR) là một thước đo độ phân tán cho biết mức độ trải rộng của 50% dữ liệu \n",
    "# nằm ở giữa (sau khi loại bỏ 25% giá trị thấp nhất và 25% giá trị cao nhất)"
   ]
  },
  {
   "cell_type": "code",
   "execution_count": 32,
   "id": "a4db4783",
   "metadata": {},
   "outputs": [
    {
     "data": {
      "application/vnd.plotly.v1+json": {
       "config": {
        "plotlyServerURL": "https://plot.ly"
       },
       "data": [
        {
         "bingroup": "x",
         "hovertemplate": "Chất lượng rượu = %{x}<br>Số lượng = %{y}",
         "legendgroup": "",
         "marker": {
          "color": "#636efa",
          "pattern": {
           "shape": ""
          }
         },
         "name": "",
         "orientation": "v",
         "showlegend": false,
         "type": "histogram",
         "x": {
          "bdata": "BQUFBgUFBQcHBQUFBQUFBQcFBAYGBQUFBgUFBQUGBQYFBgUGBgcEBQUEBgUFBAUFBQUFBgYFBgUFBQUGBQUHBQUFBQUFBgYFBQQFBQUGBQQFBQUFBgUGBQUFBQYFBQQGBQUFBgYGBgUFBQUFBgUFBQUGBQYGBgYGBQYFBQUFBQUHBQUFBQYGBQUFBQUFBQYFBgUFBQYGBgQFBQUFBQUFBgUEBgUFBQUEBgUEBgYGBQUFBgUFBQUFBQYFBQUFBQUGBQUFBQUGBwQHBQUFBgcHBQUHBgYGBQYFBQUFBQYFBQYEBgYFBgUHBgYFBgYGBgYGBQYGBwcGBQUGBgYGBQUGBQUFBQcFBAUFBQcECAYGBgYFBQUGBgYIBwYHBQcFBQYGBwUHBQYGBgUFBQUFBgYFBQUGBQYGBgYGBgUFBgUGBwYHBQUGBgYHBQYFBgYGBQcHBgUGBwYGBgYGBQcGBgYGBgUFBgYFBwcGBQYFBQcGBwUFBwUGBgUGBwYHBgYGBgYGBQYGBgYHCAYFBQUHBQYGBQUGBgYFBgYHBgQGBQUHBQUGBQYFBwcFBwUHBgYFBgcFBgUGBQYGBgUIBgcHBwYFBQYGBgYGBwUIBQUHAwYFBQUGBQYGBgUFBgYFBgUFBgUGBQgFBQYFBQYHBgYHBwYGCAYFCAYGBwcHBwcHBgYHBQYGBwcFBgMGBQYFBQUFBQUGBgUGBQUGBgYFBgcFBQYFBgYFBgYGBgYGBgUFBQYFBgYFBQUGBgUGBgYGBgYFBAYGBAUFBgUFBQcHBgcFCAcFBgUFBQUGBgYGBAYFBgYGBwYGBgUFBgUGBQUGBQUFBQUGBQUFBQYFBgUGBAUFBQUHBgUFBQUFBwUEBwYFBQUGBQUFBwYEBgUGBgUFBgYFBgUFBQUGBQYFBQUFBgUFBQUFBQUFAwUFBQUGBgYFBgYGBgQEBQUFBgYFBQUFBQYFBQUFBQUFBQQFBgUFBgUFBQUFBQUGBQUGBQUFBQYGBQYGBQUFBQYGBgUFBQUFBgUGBgUFBgUGBQUGBgUGBgUFBgUFBQUFBQYGBQYFBgUGBQUHBgYFBQcGBgcHBwUGBQYFBAYFBgYFBQUHBQUFBQcFCAYEBgMEBQUHBwcFBwUGBQYFBQYFBQUFBQYGBwYHBwYFBgUFBQUGBgYGBgUEBwcHBAYGBQUGBgUGBQYHBgUFBQYFBgYHBgcDBQcHBwcFBQYGBgYGBgcGBgUGBgYFBgYGBQcGBAUHBQUGBQUGBgQHBQcHBwcHBwcHBwcHBwcHBgUGBgcFBgUFBgYGBwUGBQYGBwUHBQUFBwUGBQYGBQYHBQUGBQUGBQUGBwcGBgcHBwcFBwcHBwUHBgUGBgYHBgYFBgYFBgcGBgUGBwcHBQYGBwcFBwYFBgYHBgYGBQYGBQUFBwYGBwUHBwYIBgYGBgcHBwUHBQYGBQcGBQUHBgcGBgYFBwYHBwgGBgcGBQYFBwUGBgYGBgUGBwUGBgcGBgYGBgYGBQgGBgYEBwYGBQYGBQcHBwYGBgUGBgYGBgUGBgcGBgcGBQYGBQcHBgUHBgcFBQUFBwYGBgYGBgYGBAcFBgYFBgUFBgUGBQQGBQcFBgYGBgYGBgcIBQcHBwUHBwYFBgYGBgYGBgYGBgYGBgUFBQcFBgUFBAYEBgYEBAUFBgUGBQUFBgYGBQUFBQUFBgYGBQQFBAYGBgYGCAYGBQUGBgQGBgcGBgYGBQUGBQUFBQYGBAYFBQYGAwYGBgUFBQUEBQUFBgUGBgYGBgYGBQYFBwYGBgYFBgYFBgUFBgUFBQYGBgYGBQYFBQUFBQYFBQUFBQYFBgUFBgQGBQUGBgQFBgUFAwUFBgYGBgUFBQUFBQUFBQYFBQUFBgUFBwYFBQYIBgcGBgcGBgYGBQUFBQcFBQUFBgQGBgYFBQUFBgYHBgYFBQUGBwYFBQYGBQUFCAcHBwUGBgYFBQcGBAYGBQUHBAcDBQUGBQUHBQcDBQQFBAUEBQUFBQYGBQUFBwYFBgYGBQUFBgYDBgYGBQYFBgYGBgUGBQUGBAUFBgUGBgYGBgUGBQcGBgYFBQYHBgYHBgUFBQgFBQYFBgcFBgUFBQUFBQUGBgUFBgYGBQYGBgYGBgUGBQUFBwYGBgYFBgYGBgUGBgUG",
          "dtype": "i1"
         },
         "xaxis": "x",
         "yaxis": "y"
        }
       ],
       "layout": {
        "barmode": "relative",
        "legend": {
         "tracegroupgap": 0
        },
        "template": {
         "data": {
          "bar": [
           {
            "error_x": {
             "color": "#2a3f5f"
            },
            "error_y": {
             "color": "#2a3f5f"
            },
            "marker": {
             "line": {
              "color": "#E5ECF6",
              "width": 0.5
             },
             "pattern": {
              "fillmode": "overlay",
              "size": 10,
              "solidity": 0.2
             }
            },
            "type": "bar"
           }
          ],
          "barpolar": [
           {
            "marker": {
             "line": {
              "color": "#E5ECF6",
              "width": 0.5
             },
             "pattern": {
              "fillmode": "overlay",
              "size": 10,
              "solidity": 0.2
             }
            },
            "type": "barpolar"
           }
          ],
          "carpet": [
           {
            "aaxis": {
             "endlinecolor": "#2a3f5f",
             "gridcolor": "white",
             "linecolor": "white",
             "minorgridcolor": "white",
             "startlinecolor": "#2a3f5f"
            },
            "baxis": {
             "endlinecolor": "#2a3f5f",
             "gridcolor": "white",
             "linecolor": "white",
             "minorgridcolor": "white",
             "startlinecolor": "#2a3f5f"
            },
            "type": "carpet"
           }
          ],
          "choropleth": [
           {
            "colorbar": {
             "outlinewidth": 0,
             "ticks": ""
            },
            "type": "choropleth"
           }
          ],
          "contour": [
           {
            "colorbar": {
             "outlinewidth": 0,
             "ticks": ""
            },
            "colorscale": [
             [
              0,
              "#0d0887"
             ],
             [
              0.1111111111111111,
              "#46039f"
             ],
             [
              0.2222222222222222,
              "#7201a8"
             ],
             [
              0.3333333333333333,
              "#9c179e"
             ],
             [
              0.4444444444444444,
              "#bd3786"
             ],
             [
              0.5555555555555556,
              "#d8576b"
             ],
             [
              0.6666666666666666,
              "#ed7953"
             ],
             [
              0.7777777777777778,
              "#fb9f3a"
             ],
             [
              0.8888888888888888,
              "#fdca26"
             ],
             [
              1,
              "#f0f921"
             ]
            ],
            "type": "contour"
           }
          ],
          "contourcarpet": [
           {
            "colorbar": {
             "outlinewidth": 0,
             "ticks": ""
            },
            "type": "contourcarpet"
           }
          ],
          "heatmap": [
           {
            "colorbar": {
             "outlinewidth": 0,
             "ticks": ""
            },
            "colorscale": [
             [
              0,
              "#0d0887"
             ],
             [
              0.1111111111111111,
              "#46039f"
             ],
             [
              0.2222222222222222,
              "#7201a8"
             ],
             [
              0.3333333333333333,
              "#9c179e"
             ],
             [
              0.4444444444444444,
              "#bd3786"
             ],
             [
              0.5555555555555556,
              "#d8576b"
             ],
             [
              0.6666666666666666,
              "#ed7953"
             ],
             [
              0.7777777777777778,
              "#fb9f3a"
             ],
             [
              0.8888888888888888,
              "#fdca26"
             ],
             [
              1,
              "#f0f921"
             ]
            ],
            "type": "heatmap"
           }
          ],
          "histogram": [
           {
            "marker": {
             "pattern": {
              "fillmode": "overlay",
              "size": 10,
              "solidity": 0.2
             }
            },
            "type": "histogram"
           }
          ],
          "histogram2d": [
           {
            "colorbar": {
             "outlinewidth": 0,
             "ticks": ""
            },
            "colorscale": [
             [
              0,
              "#0d0887"
             ],
             [
              0.1111111111111111,
              "#46039f"
             ],
             [
              0.2222222222222222,
              "#7201a8"
             ],
             [
              0.3333333333333333,
              "#9c179e"
             ],
             [
              0.4444444444444444,
              "#bd3786"
             ],
             [
              0.5555555555555556,
              "#d8576b"
             ],
             [
              0.6666666666666666,
              "#ed7953"
             ],
             [
              0.7777777777777778,
              "#fb9f3a"
             ],
             [
              0.8888888888888888,
              "#fdca26"
             ],
             [
              1,
              "#f0f921"
             ]
            ],
            "type": "histogram2d"
           }
          ],
          "histogram2dcontour": [
           {
            "colorbar": {
             "outlinewidth": 0,
             "ticks": ""
            },
            "colorscale": [
             [
              0,
              "#0d0887"
             ],
             [
              0.1111111111111111,
              "#46039f"
             ],
             [
              0.2222222222222222,
              "#7201a8"
             ],
             [
              0.3333333333333333,
              "#9c179e"
             ],
             [
              0.4444444444444444,
              "#bd3786"
             ],
             [
              0.5555555555555556,
              "#d8576b"
             ],
             [
              0.6666666666666666,
              "#ed7953"
             ],
             [
              0.7777777777777778,
              "#fb9f3a"
             ],
             [
              0.8888888888888888,
              "#fdca26"
             ],
             [
              1,
              "#f0f921"
             ]
            ],
            "type": "histogram2dcontour"
           }
          ],
          "mesh3d": [
           {
            "colorbar": {
             "outlinewidth": 0,
             "ticks": ""
            },
            "type": "mesh3d"
           }
          ],
          "parcoords": [
           {
            "line": {
             "colorbar": {
              "outlinewidth": 0,
              "ticks": ""
             }
            },
            "type": "parcoords"
           }
          ],
          "pie": [
           {
            "automargin": true,
            "type": "pie"
           }
          ],
          "scatter": [
           {
            "fillpattern": {
             "fillmode": "overlay",
             "size": 10,
             "solidity": 0.2
            },
            "type": "scatter"
           }
          ],
          "scatter3d": [
           {
            "line": {
             "colorbar": {
              "outlinewidth": 0,
              "ticks": ""
             }
            },
            "marker": {
             "colorbar": {
              "outlinewidth": 0,
              "ticks": ""
             }
            },
            "type": "scatter3d"
           }
          ],
          "scattercarpet": [
           {
            "marker": {
             "colorbar": {
              "outlinewidth": 0,
              "ticks": ""
             }
            },
            "type": "scattercarpet"
           }
          ],
          "scattergeo": [
           {
            "marker": {
             "colorbar": {
              "outlinewidth": 0,
              "ticks": ""
             }
            },
            "type": "scattergeo"
           }
          ],
          "scattergl": [
           {
            "marker": {
             "colorbar": {
              "outlinewidth": 0,
              "ticks": ""
             }
            },
            "type": "scattergl"
           }
          ],
          "scattermap": [
           {
            "marker": {
             "colorbar": {
              "outlinewidth": 0,
              "ticks": ""
             }
            },
            "type": "scattermap"
           }
          ],
          "scattermapbox": [
           {
            "marker": {
             "colorbar": {
              "outlinewidth": 0,
              "ticks": ""
             }
            },
            "type": "scattermapbox"
           }
          ],
          "scatterpolar": [
           {
            "marker": {
             "colorbar": {
              "outlinewidth": 0,
              "ticks": ""
             }
            },
            "type": "scatterpolar"
           }
          ],
          "scatterpolargl": [
           {
            "marker": {
             "colorbar": {
              "outlinewidth": 0,
              "ticks": ""
             }
            },
            "type": "scatterpolargl"
           }
          ],
          "scatterternary": [
           {
            "marker": {
             "colorbar": {
              "outlinewidth": 0,
              "ticks": ""
             }
            },
            "type": "scatterternary"
           }
          ],
          "surface": [
           {
            "colorbar": {
             "outlinewidth": 0,
             "ticks": ""
            },
            "colorscale": [
             [
              0,
              "#0d0887"
             ],
             [
              0.1111111111111111,
              "#46039f"
             ],
             [
              0.2222222222222222,
              "#7201a8"
             ],
             [
              0.3333333333333333,
              "#9c179e"
             ],
             [
              0.4444444444444444,
              "#bd3786"
             ],
             [
              0.5555555555555556,
              "#d8576b"
             ],
             [
              0.6666666666666666,
              "#ed7953"
             ],
             [
              0.7777777777777778,
              "#fb9f3a"
             ],
             [
              0.8888888888888888,
              "#fdca26"
             ],
             [
              1,
              "#f0f921"
             ]
            ],
            "type": "surface"
           }
          ],
          "table": [
           {
            "cells": {
             "fill": {
              "color": "#EBF0F8"
             },
             "line": {
              "color": "white"
             }
            },
            "header": {
             "fill": {
              "color": "#C8D4E3"
             },
             "line": {
              "color": "white"
             }
            },
            "type": "table"
           }
          ]
         },
         "layout": {
          "annotationdefaults": {
           "arrowcolor": "#2a3f5f",
           "arrowhead": 0,
           "arrowwidth": 1
          },
          "autotypenumbers": "strict",
          "coloraxis": {
           "colorbar": {
            "outlinewidth": 0,
            "ticks": ""
           }
          },
          "colorscale": {
           "diverging": [
            [
             0,
             "#8e0152"
            ],
            [
             0.1,
             "#c51b7d"
            ],
            [
             0.2,
             "#de77ae"
            ],
            [
             0.3,
             "#f1b6da"
            ],
            [
             0.4,
             "#fde0ef"
            ],
            [
             0.5,
             "#f7f7f7"
            ],
            [
             0.6,
             "#e6f5d0"
            ],
            [
             0.7,
             "#b8e186"
            ],
            [
             0.8,
             "#7fbc41"
            ],
            [
             0.9,
             "#4d9221"
            ],
            [
             1,
             "#276419"
            ]
           ],
           "sequential": [
            [
             0,
             "#0d0887"
            ],
            [
             0.1111111111111111,
             "#46039f"
            ],
            [
             0.2222222222222222,
             "#7201a8"
            ],
            [
             0.3333333333333333,
             "#9c179e"
            ],
            [
             0.4444444444444444,
             "#bd3786"
            ],
            [
             0.5555555555555556,
             "#d8576b"
            ],
            [
             0.6666666666666666,
             "#ed7953"
            ],
            [
             0.7777777777777778,
             "#fb9f3a"
            ],
            [
             0.8888888888888888,
             "#fdca26"
            ],
            [
             1,
             "#f0f921"
            ]
           ],
           "sequentialminus": [
            [
             0,
             "#0d0887"
            ],
            [
             0.1111111111111111,
             "#46039f"
            ],
            [
             0.2222222222222222,
             "#7201a8"
            ],
            [
             0.3333333333333333,
             "#9c179e"
            ],
            [
             0.4444444444444444,
             "#bd3786"
            ],
            [
             0.5555555555555556,
             "#d8576b"
            ],
            [
             0.6666666666666666,
             "#ed7953"
            ],
            [
             0.7777777777777778,
             "#fb9f3a"
            ],
            [
             0.8888888888888888,
             "#fdca26"
            ],
            [
             1,
             "#f0f921"
            ]
           ]
          },
          "colorway": [
           "#636efa",
           "#EF553B",
           "#00cc96",
           "#ab63fa",
           "#FFA15A",
           "#19d3f3",
           "#FF6692",
           "#B6E880",
           "#FF97FF",
           "#FECB52"
          ],
          "font": {
           "color": "#2a3f5f"
          },
          "geo": {
           "bgcolor": "white",
           "lakecolor": "white",
           "landcolor": "#E5ECF6",
           "showlakes": true,
           "showland": true,
           "subunitcolor": "white"
          },
          "hoverlabel": {
           "align": "left"
          },
          "hovermode": "closest",
          "mapbox": {
           "style": "light"
          },
          "paper_bgcolor": "white",
          "plot_bgcolor": "#E5ECF6",
          "polar": {
           "angularaxis": {
            "gridcolor": "white",
            "linecolor": "white",
            "ticks": ""
           },
           "bgcolor": "#E5ECF6",
           "radialaxis": {
            "gridcolor": "white",
            "linecolor": "white",
            "ticks": ""
           }
          },
          "scene": {
           "xaxis": {
            "backgroundcolor": "#E5ECF6",
            "gridcolor": "white",
            "gridwidth": 2,
            "linecolor": "white",
            "showbackground": true,
            "ticks": "",
            "zerolinecolor": "white"
           },
           "yaxis": {
            "backgroundcolor": "#E5ECF6",
            "gridcolor": "white",
            "gridwidth": 2,
            "linecolor": "white",
            "showbackground": true,
            "ticks": "",
            "zerolinecolor": "white"
           },
           "zaxis": {
            "backgroundcolor": "#E5ECF6",
            "gridcolor": "white",
            "gridwidth": 2,
            "linecolor": "white",
            "showbackground": true,
            "ticks": "",
            "zerolinecolor": "white"
           }
          },
          "shapedefaults": {
           "line": {
            "color": "#2a3f5f"
           }
          },
          "ternary": {
           "aaxis": {
            "gridcolor": "white",
            "linecolor": "white",
            "ticks": ""
           },
           "baxis": {
            "gridcolor": "white",
            "linecolor": "white",
            "ticks": ""
           },
           "bgcolor": "#E5ECF6",
           "caxis": {
            "gridcolor": "white",
            "linecolor": "white",
            "ticks": ""
           }
          },
          "title": {
           "x": 0.05
          },
          "xaxis": {
           "automargin": true,
           "gridcolor": "white",
           "linecolor": "white",
           "ticks": "",
           "title": {
            "standoff": 15
           },
           "zerolinecolor": "white",
           "zerolinewidth": 2
          },
          "yaxis": {
           "automargin": true,
           "gridcolor": "white",
           "linecolor": "white",
           "ticks": "",
           "title": {
            "standoff": 15
           },
           "zerolinecolor": "white",
           "zerolinewidth": 2
          }
         }
        },
        "title": {
         "text": "Biểu đồ phân phối chất lượng rượu"
        },
        "xaxis": {
         "anchor": "y",
         "domain": [
          0,
          1
         ],
         "title": {
          "text": "Chất lượng rượu"
         }
        },
        "yaxis": {
         "anchor": "x",
         "domain": [
          0,
          1
         ],
         "title": {
          "text": "Số lượng"
         }
        }
       }
      }
     },
     "metadata": {},
     "output_type": "display_data"
    }
   ],
   "source": [
    "fig = px.histogram(df,x='quality', \n",
    "                   labels={'quality': 'Chất lượng rượu', 'count': 'Số lượng'},\n",
    "                   title=\"Biểu đồ phân phối chất lượng rượu\")\n",
    "fig.update_yaxes(title=\"Số lượng\")\n",
    "fig.update_traces(\n",
    "    hovertemplate=\"Chất lượng rượu = %{x}<br>Số lượng = %{y}\"\n",
    ")\n",
    "fig.show()"
   ]
  },
  {
   "cell_type": "code",
   "execution_count": 33,
   "id": "0e88179a",
   "metadata": {},
   "outputs": [
    {
     "data": {
      "text/html": [
       "<div>\n",
       "<style scoped>\n",
       "    .dataframe tbody tr th:only-of-type {\n",
       "        vertical-align: middle;\n",
       "    }\n",
       "\n",
       "    .dataframe tbody tr th {\n",
       "        vertical-align: top;\n",
       "    }\n",
       "\n",
       "    .dataframe thead th {\n",
       "        text-align: right;\n",
       "    }\n",
       "</style>\n",
       "<table border=\"1\" class=\"dataframe\">\n",
       "  <thead>\n",
       "    <tr style=\"text-align: right;\">\n",
       "      <th></th>\n",
       "      <th>Biến</th>\n",
       "      <th>Giá trị trung bình</th>\n",
       "      <th>Giá trị cao nhất</th>\n",
       "    </tr>\n",
       "  </thead>\n",
       "  <tbody>\n",
       "    <tr>\n",
       "      <th>0</th>\n",
       "      <td>Fixed acidity (axit cố định)</td>\n",
       "      <td>8.31</td>\n",
       "      <td>15.90</td>\n",
       "    </tr>\n",
       "    <tr>\n",
       "      <th>1</th>\n",
       "      <td>Volatile acidity (axit bay hơi)</td>\n",
       "      <td>0.52</td>\n",
       "      <td>1.58</td>\n",
       "    </tr>\n",
       "    <tr>\n",
       "      <th>2</th>\n",
       "      <td>Citric acid (axit citric)</td>\n",
       "      <td>0.27</td>\n",
       "      <td>1.00</td>\n",
       "    </tr>\n",
       "    <tr>\n",
       "      <th>3</th>\n",
       "      <td>Residual sugar (đường dư)</td>\n",
       "      <td>2.53</td>\n",
       "      <td>15.50</td>\n",
       "    </tr>\n",
       "    <tr>\n",
       "      <th>4</th>\n",
       "      <td>Chlorides (clorua)</td>\n",
       "      <td>0.08</td>\n",
       "      <td>0.61</td>\n",
       "    </tr>\n",
       "    <tr>\n",
       "      <th>5</th>\n",
       "      <td>Free sulfur dioxide (SO₂ tự do)</td>\n",
       "      <td>15.87</td>\n",
       "      <td>72.00</td>\n",
       "    </tr>\n",
       "    <tr>\n",
       "      <th>6</th>\n",
       "      <td>Total sulfur dioxide (SO₂ tổng)</td>\n",
       "      <td>46.46</td>\n",
       "      <td>289.00</td>\n",
       "    </tr>\n",
       "    <tr>\n",
       "      <th>7</th>\n",
       "      <td>Density (khối lượng riêng)</td>\n",
       "      <td>0.99</td>\n",
       "      <td>1.00</td>\n",
       "    </tr>\n",
       "    <tr>\n",
       "      <th>8</th>\n",
       "      <td>pH</td>\n",
       "      <td>3.31</td>\n",
       "      <td>4.01</td>\n",
       "    </tr>\n",
       "    <tr>\n",
       "      <th>9</th>\n",
       "      <td>Sulphates (sunfat)</td>\n",
       "      <td>0.65</td>\n",
       "      <td>2.00</td>\n",
       "    </tr>\n",
       "    <tr>\n",
       "      <th>10</th>\n",
       "      <td>Alcohol (ancol)</td>\n",
       "      <td>10.42</td>\n",
       "      <td>14.90</td>\n",
       "    </tr>\n",
       "    <tr>\n",
       "      <th>11</th>\n",
       "      <td>Quality (chất lượng)</td>\n",
       "      <td>5.63</td>\n",
       "      <td>8.00</td>\n",
       "    </tr>\n",
       "  </tbody>\n",
       "</table>\n",
       "</div>"
      ],
      "text/plain": [
       "                               Biến  Giá trị trung bình  Giá trị cao nhất\n",
       "0      Fixed acidity (axit cố định)                8.31             15.90\n",
       "1   Volatile acidity (axit bay hơi)                0.52              1.58\n",
       "2         Citric acid (axit citric)                0.27              1.00\n",
       "3         Residual sugar (đường dư)                2.53             15.50\n",
       "4                Chlorides (clorua)                0.08              0.61\n",
       "5   Free sulfur dioxide (SO₂ tự do)               15.87             72.00\n",
       "6   Total sulfur dioxide (SO₂ tổng)               46.46            289.00\n",
       "7        Density (khối lượng riêng)                0.99              1.00\n",
       "8                                pH                3.31              4.01\n",
       "9                Sulphates (sunfat)                0.65              2.00\n",
       "10                  Alcohol (ancol)               10.42             14.90\n",
       "11             Quality (chất lượng)                5.63              8.00"
      ]
     },
     "execution_count": 33,
     "metadata": {},
     "output_type": "execute_result"
    }
   ],
   "source": [
    "# Thông qua thống kê\n",
    "data = {\n",
    "    \"Biến\": [\n",
    "        \"Fixed acidity (axit cố định)\", \"Volatile acidity (axit bay hơi)\",\n",
    "        \"Citric acid (axit citric)\", \"Residual sugar (đường dư)\",\n",
    "        \"Chlorides (clorua)\", \"Free sulfur dioxide (SO₂ tự do)\",\n",
    "        \"Total sulfur dioxide (SO₂ tổng)\", \"Density (khối lượng riêng)\",\n",
    "        \"pH\", \"Sulphates (sunfat)\", \"Alcohol (ancol)\", \"Quality (chất lượng)\"\n",
    "    ],\n",
    "    \"Giá trị trung bình\": [8.31, 0.52, 0.27, 2.53, 0.08, 15.87, 46.46, 0.99, 3.31, 0.65, 10.42, 5.63],\n",
    "    \"Giá trị cao nhất\": [15.9, 1.58, 1.0, 15.5, 0.61, 72, 289, 1.0, 4.01, 2.0, 14.90, 8]\n",
    "}\n",
    "\n",
    "df_stats = pd.DataFrame(data)\n",
    "df_stats"
   ]
  },
  {
   "cell_type": "markdown",
   "id": "caef8f16",
   "metadata": {},
   "source": [
    "## Dữ liệu trùng lặp"
   ]
  },
  {
   "cell_type": "code",
   "execution_count": 34,
   "id": "4dc74b09",
   "metadata": {},
   "outputs": [
    {
     "name": "stdout",
     "output_type": "stream",
     "text": [
      "      fixed acidity  volatile acidity  citric acid  residual sugar  chlorides  \\\n",
      "4               7.4             0.700         0.00            1.90      0.076   \n",
      "11              7.5             0.500         0.36            6.10      0.071   \n",
      "27              7.9             0.430         0.21            1.60      0.106   \n",
      "40              7.3             0.450         0.36            5.90      0.074   \n",
      "65              7.2             0.725         0.05            4.65      0.086   \n",
      "...             ...               ...          ...             ...        ...   \n",
      "1563            7.2             0.695         0.13            2.00      0.076   \n",
      "1564            7.2             0.695         0.13            2.00      0.076   \n",
      "1567            7.2             0.695         0.13            2.00      0.076   \n",
      "1581            6.2             0.560         0.09            1.70      0.053   \n",
      "1596            6.3             0.510         0.13            2.30      0.076   \n",
      "\n",
      "      free sulfur dioxide  total sulfur dioxide  density    pH  sulphates  \\\n",
      "4                    11.0                  34.0  0.99780  3.51       0.56   \n",
      "11                   17.0                 102.0  0.99780  3.35       0.80   \n",
      "27                   10.0                  37.0  0.99660  3.17       0.91   \n",
      "40                   12.0                  87.0  0.99780  3.33       0.83   \n",
      "65                    4.0                  11.0  0.99620  3.41       0.39   \n",
      "...                   ...                   ...      ...   ...        ...   \n",
      "1563                 12.0                  20.0  0.99546  3.29       0.54   \n",
      "1564                 12.0                  20.0  0.99546  3.29       0.54   \n",
      "1567                 12.0                  20.0  0.99546  3.29       0.54   \n",
      "1581                 24.0                  32.0  0.99402  3.54       0.60   \n",
      "1596                 29.0                  40.0  0.99574  3.42       0.75   \n",
      "\n",
      "      alcohol  quality  \n",
      "4         9.4        5  \n",
      "11       10.5        5  \n",
      "27        9.5        5  \n",
      "40       10.5        5  \n",
      "65       10.9        5  \n",
      "...       ...      ...  \n",
      "1563     10.1        5  \n",
      "1564     10.1        5  \n",
      "1567     10.1        5  \n",
      "1581     11.3        5  \n",
      "1596     11.0        6  \n",
      "\n",
      "[240 rows x 12 columns]\n"
     ]
    }
   ],
   "source": [
    "# Kiểm tra dữ liệu trùng lặp\n",
    "duplicates = df[df.duplicated()]\n",
    "print(duplicates)"
   ]
  },
  {
   "cell_type": "code",
   "execution_count": 35,
   "id": "32cadee3",
   "metadata": {},
   "outputs": [
    {
     "name": "stdout",
     "output_type": "stream",
     "text": [
      "Rows: (1359, 12) \n",
      " Empty DataFrame\n",
      "Columns: [fixed acidity, volatile acidity, citric acid, residual sugar, chlorides, free sulfur dioxide, total sulfur dioxide, density, pH, sulphates, alcohol, quality]\n",
      "Index: []\n"
     ]
    }
   ],
   "source": [
    "# Xử lý giá trị trùng lặp\n",
    "df_duplicate = df.drop_duplicates()\n",
    "df_duplicate_dropped = df_duplicate[df_duplicate.duplicated()]\n",
    "print(\"Rows:\", df_duplicate.shape, '\\n', df_duplicate_dropped)"
   ]
  },
  {
   "cell_type": "markdown",
   "id": "54429b2f",
   "metadata": {},
   "source": [
    "Dataset sau khi xử lý 240 hàng giá trị bị trùng còn lại 1359 hàng."
   ]
  },
  {
   "cell_type": "markdown",
   "id": "a6df1d4a",
   "metadata": {},
   "source": [
    "## Giá trị bị thiếu"
   ]
  },
  {
   "cell_type": "code",
   "execution_count": 36,
   "id": "4306362e",
   "metadata": {},
   "outputs": [
    {
     "name": "stdout",
     "output_type": "stream",
     "text": [
      "fixed acidity           0\n",
      "volatile acidity        0\n",
      "citric acid             0\n",
      "residual sugar          0\n",
      "chlorides               0\n",
      "free sulfur dioxide     0\n",
      "total sulfur dioxide    0\n",
      "density                 0\n",
      "pH                      0\n",
      "sulphates               0\n",
      "alcohol                 0\n",
      "quality                 0\n",
      "dtype: int64\n"
     ]
    }
   ],
   "source": [
    "# Hiển thị giá trị bị thiếu cho từng cột\n",
    "print(df.isna().sum())"
   ]
  },
  {
   "cell_type": "markdown",
   "id": "44ea96cb",
   "metadata": {},
   "source": [
    "Dataset hiện tại khá thân thiện, không có cột nào bị thiếu giá trị. Vì thế không cần xử lý thêm các bước để xử lý mà có thể tiến hành vào phân tích, thống kê ngay."
   ]
  },
  {
   "cell_type": "markdown",
   "id": "783a1b81",
   "metadata": {},
   "source": [
    "## Trực quan hóa\n",
    "\n",
    "### Histogram\n"
   ]
  },
  {
   "cell_type": "code",
   "execution_count": 37,
   "id": "38681397",
   "metadata": {},
   "outputs": [
    {
     "data": {
      "application/vnd.plotly.v1+json": {
       "config": {
        "plotlyServerURL": "https://plot.ly"
       },
       "data": [
        {
         "bingroup": "x",
         "hovertemplate": "Chất lượng rượu = %{x}<br>Số lượng = %{y}",
         "legendgroup": "",
         "marker": {
          "color": "#636efa",
          "pattern": {
           "shape": ""
          }
         },
         "name": "",
         "orientation": "v",
         "showlegend": false,
         "type": "histogram",
         "x": {
          "bdata": "BQUFBgUFBwcFBQUFBQUHBQQGBgUFBQYFBQUGBQYFBgUGBgcEBQQGBQUEBQUFBQUGBgUGBQUFBQYFBQcFBQUFBQYGBQUEBQUGBQQFBQUFBgUGBQUFBQUEBgUFBQYGBgUFBQUGBQUFBQYGBgYGBgUFBQUFBQUHBQUFBgYFBQUFBQYFBQUFBgYGBAUFBQUGBQQGBQUFBQQGBQQGBgUFBgUFBQUFBgUFBQUFBQYFBQUFBgcEBwUFBQYHBQUHBgYGBQYFBQUFBQYFBQYEBgYFBQcGBgYGBgUGBgcGBQUGBgYFBQUFBQUHBQQFBQUHBAgGBgYFBQUIBwYHBQUGBgcFBQYGBgUFBQUFBgYFBQUGBQYGBgYGBQUGBQYHBQUGBgcFBgUGBgUHBwYFBgcGBgYGBQcGBgYGBgUFBgYFBwcGBQYFBQcGBQUHBQYGBQYHBgYGBgYFBgYGBgcIBQUFBwUGBQYGBgUGBgcGBAYFBQcFBQYFBgUHBwUHBgYFBgUGBQYGBgUIBgcHBwYFBQYGBgYHBQgFBQMGBQUFBgUGBgYFBQYGBQYFBQYGBQgFBQYFBgcGBgcHBgYIBgUHBwcHBwYGBwUGBwUGAwYFBgUFBQUFBgYFBgUGBgYHBQUGBQYGBQYGBgYGBgYFBQYFBgUFBQYGBgYGBQQGBgQFBQYFBQcHBgcFCAcFBgUFBQYGBgYEBgUGBgcGBgYFBQYFBgUGBQUFBQUGBQUGBQUGBAUFBQUHBgUFBwUEBwYFBQUGBQUHBgQFBgYFBQYGBQUFBQYFBQUFBQYFBQUFBQUFAwUFBQUGBgUGBgYEBAUFBQYGBQUFBQUGBQUFBQUFBAUGBQYFBQUFBQUGBQUGBQUFBQYGBQYFBQYGBgUFBQUGBgYFBQYFBQUGBgUGBgUFBgUFBQUGBQYFBgUGBQUHBgUFBwYGBwcFBgUGBQQGBgYFBQUHBQUFBwgGBAMEBQUHBwUHBQYFBgUGBQUFBgcHBwYFBgUFBQYGBgYFBAcHBwQGBQUGBgUGBwYFBQUGBgYHAwUHBwUFBgYGBgYGBwYFBgYGBQUHBgQHBQUGBgQHBQcHBwcHBwcHBwcHBgUGBgcFBgUFBgYHBQYFBgcFBwUFBwUGBQYGBwUFBgUGBQYHBgYHBwcHBQcHBQcGBQYGBgcGBQYFBgcGBgUGBwcFBgYHBwUHBgUGBwYGBgUGBgUFBwYHBQcGCAYGBgYHBwUHBQYGBwYFBwYHBgYFBwYHCAYGBwYFBQcGBgYGBQYHBQYGBwYGBgYGBQgGBgYEBwYGBQYGBQcHBwYGBQYGBgYGBQYGBwYGBwYFBgYHBwYFBwYHBQUFBwYGBgYGBgYEBwUGBQYFBQYFBAYFBwUGBgYGBgcIBQcFBwYFBgYGBgYGBgYGBgYFBQUHBQYFBAYEBgQEBQUGBQYFBQYGBQUFBQUFBgYFBAUEBgYGBggGBgUFBgYEBgcGBgYFBQYFBQUGBgQFBgYDBgYGBQUFBQQFBgUGBgYGBgYFBgUHBgUGBQYFBQYFBgYFBgUFBQUGBQUFBQYFBgUFBAYFBQYGBAUGBQMFBQYGBgUFBQUFBQUGBQUFBQYFBQcGBQYIBgcGBgcGBgUFBQcFBQUGBAYGBQUFBQYGBwYFBQUGBwYFBQYGBQUIBwcFBgYGBQcGBAYGBQcEAwUFBgUFBwcDBQQEBQQFBQUFBgYFBQcGBgYFBQUGBgMGBgUGBQYGBgYFBgUFBAUGBQYGBgYGBQYFBwYGBgUFBgcGBgcGBQUFCAUFBgUGBwUFBQUGBgUGBgYFBgYGBgYGBQYFBQcGBgYGBQYGBgYFBgUG",
          "dtype": "i1"
         },
         "xaxis": "x",
         "yaxis": "y"
        }
       ],
       "layout": {
        "barmode": "relative",
        "legend": {
         "tracegroupgap": 0
        },
        "template": {
         "data": {
          "bar": [
           {
            "error_x": {
             "color": "#2a3f5f"
            },
            "error_y": {
             "color": "#2a3f5f"
            },
            "marker": {
             "line": {
              "color": "#E5ECF6",
              "width": 0.5
             },
             "pattern": {
              "fillmode": "overlay",
              "size": 10,
              "solidity": 0.2
             }
            },
            "type": "bar"
           }
          ],
          "barpolar": [
           {
            "marker": {
             "line": {
              "color": "#E5ECF6",
              "width": 0.5
             },
             "pattern": {
              "fillmode": "overlay",
              "size": 10,
              "solidity": 0.2
             }
            },
            "type": "barpolar"
           }
          ],
          "carpet": [
           {
            "aaxis": {
             "endlinecolor": "#2a3f5f",
             "gridcolor": "white",
             "linecolor": "white",
             "minorgridcolor": "white",
             "startlinecolor": "#2a3f5f"
            },
            "baxis": {
             "endlinecolor": "#2a3f5f",
             "gridcolor": "white",
             "linecolor": "white",
             "minorgridcolor": "white",
             "startlinecolor": "#2a3f5f"
            },
            "type": "carpet"
           }
          ],
          "choropleth": [
           {
            "colorbar": {
             "outlinewidth": 0,
             "ticks": ""
            },
            "type": "choropleth"
           }
          ],
          "contour": [
           {
            "colorbar": {
             "outlinewidth": 0,
             "ticks": ""
            },
            "colorscale": [
             [
              0,
              "#0d0887"
             ],
             [
              0.1111111111111111,
              "#46039f"
             ],
             [
              0.2222222222222222,
              "#7201a8"
             ],
             [
              0.3333333333333333,
              "#9c179e"
             ],
             [
              0.4444444444444444,
              "#bd3786"
             ],
             [
              0.5555555555555556,
              "#d8576b"
             ],
             [
              0.6666666666666666,
              "#ed7953"
             ],
             [
              0.7777777777777778,
              "#fb9f3a"
             ],
             [
              0.8888888888888888,
              "#fdca26"
             ],
             [
              1,
              "#f0f921"
             ]
            ],
            "type": "contour"
           }
          ],
          "contourcarpet": [
           {
            "colorbar": {
             "outlinewidth": 0,
             "ticks": ""
            },
            "type": "contourcarpet"
           }
          ],
          "heatmap": [
           {
            "colorbar": {
             "outlinewidth": 0,
             "ticks": ""
            },
            "colorscale": [
             [
              0,
              "#0d0887"
             ],
             [
              0.1111111111111111,
              "#46039f"
             ],
             [
              0.2222222222222222,
              "#7201a8"
             ],
             [
              0.3333333333333333,
              "#9c179e"
             ],
             [
              0.4444444444444444,
              "#bd3786"
             ],
             [
              0.5555555555555556,
              "#d8576b"
             ],
             [
              0.6666666666666666,
              "#ed7953"
             ],
             [
              0.7777777777777778,
              "#fb9f3a"
             ],
             [
              0.8888888888888888,
              "#fdca26"
             ],
             [
              1,
              "#f0f921"
             ]
            ],
            "type": "heatmap"
           }
          ],
          "histogram": [
           {
            "marker": {
             "pattern": {
              "fillmode": "overlay",
              "size": 10,
              "solidity": 0.2
             }
            },
            "type": "histogram"
           }
          ],
          "histogram2d": [
           {
            "colorbar": {
             "outlinewidth": 0,
             "ticks": ""
            },
            "colorscale": [
             [
              0,
              "#0d0887"
             ],
             [
              0.1111111111111111,
              "#46039f"
             ],
             [
              0.2222222222222222,
              "#7201a8"
             ],
             [
              0.3333333333333333,
              "#9c179e"
             ],
             [
              0.4444444444444444,
              "#bd3786"
             ],
             [
              0.5555555555555556,
              "#d8576b"
             ],
             [
              0.6666666666666666,
              "#ed7953"
             ],
             [
              0.7777777777777778,
              "#fb9f3a"
             ],
             [
              0.8888888888888888,
              "#fdca26"
             ],
             [
              1,
              "#f0f921"
             ]
            ],
            "type": "histogram2d"
           }
          ],
          "histogram2dcontour": [
           {
            "colorbar": {
             "outlinewidth": 0,
             "ticks": ""
            },
            "colorscale": [
             [
              0,
              "#0d0887"
             ],
             [
              0.1111111111111111,
              "#46039f"
             ],
             [
              0.2222222222222222,
              "#7201a8"
             ],
             [
              0.3333333333333333,
              "#9c179e"
             ],
             [
              0.4444444444444444,
              "#bd3786"
             ],
             [
              0.5555555555555556,
              "#d8576b"
             ],
             [
              0.6666666666666666,
              "#ed7953"
             ],
             [
              0.7777777777777778,
              "#fb9f3a"
             ],
             [
              0.8888888888888888,
              "#fdca26"
             ],
             [
              1,
              "#f0f921"
             ]
            ],
            "type": "histogram2dcontour"
           }
          ],
          "mesh3d": [
           {
            "colorbar": {
             "outlinewidth": 0,
             "ticks": ""
            },
            "type": "mesh3d"
           }
          ],
          "parcoords": [
           {
            "line": {
             "colorbar": {
              "outlinewidth": 0,
              "ticks": ""
             }
            },
            "type": "parcoords"
           }
          ],
          "pie": [
           {
            "automargin": true,
            "type": "pie"
           }
          ],
          "scatter": [
           {
            "fillpattern": {
             "fillmode": "overlay",
             "size": 10,
             "solidity": 0.2
            },
            "type": "scatter"
           }
          ],
          "scatter3d": [
           {
            "line": {
             "colorbar": {
              "outlinewidth": 0,
              "ticks": ""
             }
            },
            "marker": {
             "colorbar": {
              "outlinewidth": 0,
              "ticks": ""
             }
            },
            "type": "scatter3d"
           }
          ],
          "scattercarpet": [
           {
            "marker": {
             "colorbar": {
              "outlinewidth": 0,
              "ticks": ""
             }
            },
            "type": "scattercarpet"
           }
          ],
          "scattergeo": [
           {
            "marker": {
             "colorbar": {
              "outlinewidth": 0,
              "ticks": ""
             }
            },
            "type": "scattergeo"
           }
          ],
          "scattergl": [
           {
            "marker": {
             "colorbar": {
              "outlinewidth": 0,
              "ticks": ""
             }
            },
            "type": "scattergl"
           }
          ],
          "scattermap": [
           {
            "marker": {
             "colorbar": {
              "outlinewidth": 0,
              "ticks": ""
             }
            },
            "type": "scattermap"
           }
          ],
          "scattermapbox": [
           {
            "marker": {
             "colorbar": {
              "outlinewidth": 0,
              "ticks": ""
             }
            },
            "type": "scattermapbox"
           }
          ],
          "scatterpolar": [
           {
            "marker": {
             "colorbar": {
              "outlinewidth": 0,
              "ticks": ""
             }
            },
            "type": "scatterpolar"
           }
          ],
          "scatterpolargl": [
           {
            "marker": {
             "colorbar": {
              "outlinewidth": 0,
              "ticks": ""
             }
            },
            "type": "scatterpolargl"
           }
          ],
          "scatterternary": [
           {
            "marker": {
             "colorbar": {
              "outlinewidth": 0,
              "ticks": ""
             }
            },
            "type": "scatterternary"
           }
          ],
          "surface": [
           {
            "colorbar": {
             "outlinewidth": 0,
             "ticks": ""
            },
            "colorscale": [
             [
              0,
              "#0d0887"
             ],
             [
              0.1111111111111111,
              "#46039f"
             ],
             [
              0.2222222222222222,
              "#7201a8"
             ],
             [
              0.3333333333333333,
              "#9c179e"
             ],
             [
              0.4444444444444444,
              "#bd3786"
             ],
             [
              0.5555555555555556,
              "#d8576b"
             ],
             [
              0.6666666666666666,
              "#ed7953"
             ],
             [
              0.7777777777777778,
              "#fb9f3a"
             ],
             [
              0.8888888888888888,
              "#fdca26"
             ],
             [
              1,
              "#f0f921"
             ]
            ],
            "type": "surface"
           }
          ],
          "table": [
           {
            "cells": {
             "fill": {
              "color": "#EBF0F8"
             },
             "line": {
              "color": "white"
             }
            },
            "header": {
             "fill": {
              "color": "#C8D4E3"
             },
             "line": {
              "color": "white"
             }
            },
            "type": "table"
           }
          ]
         },
         "layout": {
          "annotationdefaults": {
           "arrowcolor": "#2a3f5f",
           "arrowhead": 0,
           "arrowwidth": 1
          },
          "autotypenumbers": "strict",
          "coloraxis": {
           "colorbar": {
            "outlinewidth": 0,
            "ticks": ""
           }
          },
          "colorscale": {
           "diverging": [
            [
             0,
             "#8e0152"
            ],
            [
             0.1,
             "#c51b7d"
            ],
            [
             0.2,
             "#de77ae"
            ],
            [
             0.3,
             "#f1b6da"
            ],
            [
             0.4,
             "#fde0ef"
            ],
            [
             0.5,
             "#f7f7f7"
            ],
            [
             0.6,
             "#e6f5d0"
            ],
            [
             0.7,
             "#b8e186"
            ],
            [
             0.8,
             "#7fbc41"
            ],
            [
             0.9,
             "#4d9221"
            ],
            [
             1,
             "#276419"
            ]
           ],
           "sequential": [
            [
             0,
             "#0d0887"
            ],
            [
             0.1111111111111111,
             "#46039f"
            ],
            [
             0.2222222222222222,
             "#7201a8"
            ],
            [
             0.3333333333333333,
             "#9c179e"
            ],
            [
             0.4444444444444444,
             "#bd3786"
            ],
            [
             0.5555555555555556,
             "#d8576b"
            ],
            [
             0.6666666666666666,
             "#ed7953"
            ],
            [
             0.7777777777777778,
             "#fb9f3a"
            ],
            [
             0.8888888888888888,
             "#fdca26"
            ],
            [
             1,
             "#f0f921"
            ]
           ],
           "sequentialminus": [
            [
             0,
             "#0d0887"
            ],
            [
             0.1111111111111111,
             "#46039f"
            ],
            [
             0.2222222222222222,
             "#7201a8"
            ],
            [
             0.3333333333333333,
             "#9c179e"
            ],
            [
             0.4444444444444444,
             "#bd3786"
            ],
            [
             0.5555555555555556,
             "#d8576b"
            ],
            [
             0.6666666666666666,
             "#ed7953"
            ],
            [
             0.7777777777777778,
             "#fb9f3a"
            ],
            [
             0.8888888888888888,
             "#fdca26"
            ],
            [
             1,
             "#f0f921"
            ]
           ]
          },
          "colorway": [
           "#636efa",
           "#EF553B",
           "#00cc96",
           "#ab63fa",
           "#FFA15A",
           "#19d3f3",
           "#FF6692",
           "#B6E880",
           "#FF97FF",
           "#FECB52"
          ],
          "font": {
           "color": "#2a3f5f"
          },
          "geo": {
           "bgcolor": "white",
           "lakecolor": "white",
           "landcolor": "#E5ECF6",
           "showlakes": true,
           "showland": true,
           "subunitcolor": "white"
          },
          "hoverlabel": {
           "align": "left"
          },
          "hovermode": "closest",
          "mapbox": {
           "style": "light"
          },
          "paper_bgcolor": "white",
          "plot_bgcolor": "#E5ECF6",
          "polar": {
           "angularaxis": {
            "gridcolor": "white",
            "linecolor": "white",
            "ticks": ""
           },
           "bgcolor": "#E5ECF6",
           "radialaxis": {
            "gridcolor": "white",
            "linecolor": "white",
            "ticks": ""
           }
          },
          "scene": {
           "xaxis": {
            "backgroundcolor": "#E5ECF6",
            "gridcolor": "white",
            "gridwidth": 2,
            "linecolor": "white",
            "showbackground": true,
            "ticks": "",
            "zerolinecolor": "white"
           },
           "yaxis": {
            "backgroundcolor": "#E5ECF6",
            "gridcolor": "white",
            "gridwidth": 2,
            "linecolor": "white",
            "showbackground": true,
            "ticks": "",
            "zerolinecolor": "white"
           },
           "zaxis": {
            "backgroundcolor": "#E5ECF6",
            "gridcolor": "white",
            "gridwidth": 2,
            "linecolor": "white",
            "showbackground": true,
            "ticks": "",
            "zerolinecolor": "white"
           }
          },
          "shapedefaults": {
           "line": {
            "color": "#2a3f5f"
           }
          },
          "ternary": {
           "aaxis": {
            "gridcolor": "white",
            "linecolor": "white",
            "ticks": ""
           },
           "baxis": {
            "gridcolor": "white",
            "linecolor": "white",
            "ticks": ""
           },
           "bgcolor": "#E5ECF6",
           "caxis": {
            "gridcolor": "white",
            "linecolor": "white",
            "ticks": ""
           }
          },
          "title": {
           "x": 0.05
          },
          "xaxis": {
           "automargin": true,
           "gridcolor": "white",
           "linecolor": "white",
           "ticks": "",
           "title": {
            "standoff": 15
           },
           "zerolinecolor": "white",
           "zerolinewidth": 2
          },
          "yaxis": {
           "automargin": true,
           "gridcolor": "white",
           "linecolor": "white",
           "ticks": "",
           "title": {
            "standoff": 15
           },
           "zerolinecolor": "white",
           "zerolinewidth": 2
          }
         }
        },
        "title": {
         "text": "Biểu đồ phân phối chất lượng rượu"
        },
        "xaxis": {
         "anchor": "y",
         "domain": [
          0,
          1
         ],
         "title": {
          "text": "Chất lượng rượu"
         }
        },
        "yaxis": {
         "anchor": "x",
         "domain": [
          0,
          1
         ],
         "title": {
          "text": "Số lượng"
         }
        }
       }
      }
     },
     "metadata": {},
     "output_type": "display_data"
    }
   ],
   "source": [
    "fig = px.histogram(df_duplicate,x='quality', \n",
    "                   labels={'quality': 'Chất lượng rượu', 'count': 'Số lượng'},\n",
    "                   title=\"Biểu đồ phân phối chất lượng rượu\")\n",
    "fig.update_yaxes(title=\"Số lượng\")\n",
    "fig.update_traces(\n",
    "    hovertemplate=\"Chất lượng rượu = %{x}<br>Số lượng = %{y}\"\n",
    ")\n",
    "fig.show()"
   ]
  },
  {
   "cell_type": "markdown",
   "id": "f9805714",
   "metadata": {},
   "source": [
    "### Destiny plot"
   ]
  },
  {
   "cell_type": "code",
   "execution_count": 38,
   "id": "6b1268a7",
   "metadata": {},
   "outputs": [
    {
     "data": {
      "text/plain": [
       "Text(0.5, 1.0, 'Phân phối mật độ của quality')"
      ]
     },
     "execution_count": 38,
     "metadata": {},
     "output_type": "execute_result"
    },
    {
     "data": {
      "image/png": "[encoded data removed]",
      "text/plain": [
       "<Figure size 640x480 with 1 Axes>"
      ]
     },
     "metadata": {},
     "output_type": "display_data"
    }
   ],
   "source": [
    "sns.kdeplot(df_duplicate['quality'], fill=True, color='skyblue')\n",
    "plt.title(\"Phân phối mật độ của quality\")"
   ]
  },
  {
   "cell_type": "markdown",
   "id": "90e35dc4",
   "metadata": {},
   "source": [
    "### Pie Chart"
   ]
  },
  {
   "cell_type": "code",
   "execution_count": 39,
   "id": "f65a5586",
   "metadata": {},
   "outputs": [
    {
     "data": {
      "image/png": "[encoded data removed]",
      "text/plain": [
       "<Figure size 1000x1000 with 1 Axes>"
      ]
     },
     "metadata": {},
     "output_type": "display_data"
    }
   ],
   "source": [
    "# Đếm số lượng từng mức chất lượng\n",
    "quality_counts = df_duplicate['quality'].value_counts().sort_index()\n",
    "\n",
    "plt.figure(figsize=(10, 10))\n",
    "wedges, texts, autotexts = plt.pie(\n",
    "    quality_counts,\n",
    "    autopct='%1.1f%%',\n",
    "    startangle=140,\n",
    "    colors=plt.cm.Paired.colors,\n",
    "    textprops={'fontsize': 20}\n",
    ")\n",
    "plt.title('Tỷ lệ các mức chất lượng rượu', fontsize=18, pad=20)\n",
    "plt.legend(\n",
    "    wedges,\n",
    "    [f'Chất lượng {q}' for q in quality_counts.index],\n",
    "    title=\"Mức chất lượng\",\n",
    "    loc=\"center left\",\n",
    "    bbox_to_anchor=(1, 0, 0.5, 1),   # đẩy legend ra ngoài bên phải\n",
    "    fontsize=12,\n",
    "    title_fontsize=13\n",
    ")\n",
    "plt.tight_layout()\n",
    "plt.savefig('images/pie_chart.pdf')\n",
    "plt.show()"
   ]
  },
  {
   "cell_type": "markdown",
   "id": "b233821a",
   "metadata": {},
   "source": [
    "➤ Ta có thể thấy mức phân bố chủ yếu của chất lượng rượu đa số ở mức 5,6. Mức 7 cũng phân bố trung bình - thấp hơn 2 mức kia, các mức còn lại rất thấp."
   ]
  },
  {
   "cell_type": "markdown",
   "id": "a45b3a68",
   "metadata": {},
   "source": [
    "## Câu hỏi đặt ra\n",
    "### Tính chất nào có mối tương quan nhiều nhất đối với chất lượng rượu?"
   ]
  },
  {
   "cell_type": "markdown",
   "id": "f969cec9",
   "metadata": {},
   "source": [
    "### Heatmap"
   ]
  },
  {
   "cell_type": "code",
   "execution_count": 40,
   "id": "7568d7b1",
   "metadata": {},
   "outputs": [
    {
     "data": {
      "image/png": "[encoded data removed]",
      "text/plain": [
       "<Figure size 1500x1000 with 2 Axes>"
      ]
     },
     "metadata": {},
     "output_type": "display_data"
    }
   ],
   "source": [
    "corr = df_duplicate.corr()\n",
    "plt.subplots(figsize=(15,10))\n",
    "sns.heatmap(\n",
    "    corr, \n",
    "    xticklabels=corr.columns,\n",
    "    yticklabels=corr.columns, \n",
    "    annot=True, \n",
    "    cmap=sns.diverging_palette(220, 20, as_cmap=True))\n",
    "plt.savefig('images/heatmap.pdf')\n",
    "plt.savefig('images/heatmap.png')"
   ]
  },
  {
   "cell_type": "code",
   "execution_count": 41,
   "id": "0330dcf5",
   "metadata": {},
   "outputs": [
    {
     "data": {
      "text/plain": [
       "quality                 1.000000\n",
       "alcohol                 0.480343\n",
       "sulphates               0.248835\n",
       "citric acid             0.228057\n",
       "fixed acidity           0.119024\n",
       "residual sugar          0.013640\n",
       "free sulfur dioxide    -0.050463\n",
       "pH                     -0.055245\n",
       "chlorides              -0.130988\n",
       "total sulfur dioxide   -0.177855\n",
       "density                -0.184252\n",
       "volatile acidity       -0.395214\n",
       "Name: quality, dtype: float64"
      ]
     },
     "execution_count": 41,
     "metadata": {},
     "output_type": "execute_result"
    }
   ],
   "source": [
    "corr = df_duplicate.corr()['quality'].sort_values(ascending=False)\n",
    "corr"
   ]
  },
  {
   "cell_type": "markdown",
   "id": "9bf139a9",
   "metadata": {},
   "source": [
    "\\- Thông qua Heatmap ta thấy có một vài biến có tương quan với biến 'quality', cụ thể như sau:\n",
    "\n",
    "\\+ 'alcohol' : có mức tương quan dương khá lớn (0.48).\n",
    "\n",
    "\\+ 'volatile acidity' : có mức tương quan âm trung bình (-0.39).\n",
    "\n",
    "\\+ 'sulphates' : tương quan dương yếu - trung bình (0.25).\n",
    "\n",
    "\\+ 'citric acid' : tương quan dương yếu.\n",
    "\n",
    "➤ Nhận xét: Nồng độ cồn (alcohol) có ảnh hưởng lớn đến chất lượng, nồng độ cao sẽ có chất lượng tốt hơn. Bên cạnh đó, độ axit dễ bay hơi (volatile acidity) cao sẽ làm cho chất lượng giảm. Ngoài ra có thể tăng một ít sunfat (sulphates) và axit xitric (citric acid) để tăng chất lượng rượu.\n",
    "\n"
   ]
  },
  {
   "cell_type": "markdown",
   "id": "16800853",
   "metadata": {},
   "source": [
    "### Pair plot"
   ]
  },
  {
   "cell_type": "code",
   "execution_count": null,
   "id": "5eafbb20",
   "metadata": {},
   "outputs": [],
   "source": [
    "sns.pairplot(df_duplicate[['alcohol', 'sulphates', 'volatile acidity', 'citric acid', 'quality']], diag_kind='kde')\n",
    "plt.savefig('images/pair_plot.pdf')\n",
    "plt.show()"
   ]
  },
  {
   "cell_type": "markdown",
   "id": "93ac4381",
   "metadata": {},
   "source": [
    "- alcohol vs quality: Các điểm có xu hướng tăng dần từ trái sang phải → Nồng độ cồn càng cao thì chất lượng rượu càng tốt. Đây là mối tương quan dương mạnh nhất trong toàn bộ biểu đồ.\n",
    "\n",
    "- volatile acidity vs quality: Các điểm có xu hướng giảm → Axit dễ bay hơi cao thì chất lượng rượu giảm.\n",
    "\n",
    "- sulphates vs quality: Có xu hướng hơi tăng nhẹ → Chất bảo quản (sunfat) tăng thì chất lượng có thể tốt hơn, nhưng tương quan yếu (~0.25).\n",
    "\n",
    "- citric acid vs quality: Xu hướng tăng nhẹ nhưng không rõ rệt → Tương quan dương yếu, chỉ hỗ trợ nhẹ trong việc tăng chất lượng.\n",
    "\n",
    "### ➤ Nồng độ cồn (alcohol) có ảnh hưởng lớn nhất đến chất lượng."
   ]
  },
  {
   "cell_type": "markdown",
   "id": "746c5fe0",
   "metadata": {},
   "source": [
    "## Biểu đồ"
   ]
  },
  {
   "cell_type": "markdown",
   "id": "7c6ae228",
   "metadata": {},
   "source": [
    "### Bar Chart"
   ]
  },
  {
   "cell_type": "code",
   "execution_count": null,
   "id": "77c58899",
   "metadata": {},
   "outputs": [],
   "source": [
    "sns.barplot(\n",
    "    x='quality', \n",
    "    y='alcohol', \n",
    "    hue='quality',         \n",
    "    data=df_duplicate, \n",
    "    palette='Blues', \n",
    "    legend=False   )\n",
    "plt.savefig('images/bar_plot.pdf')\n",
    "plt.savefig('images/bar_plot.png')\n",
    "plt.title(\"Trung bình Alcohol theo Chất lượng rượu\")"
   ]
  },
  {
   "cell_type": "markdown",
   "id": "021b8565",
   "metadata": {},
   "source": [
    "### Violin plot"
   ]
  },
  {
   "cell_type": "code",
   "execution_count": null,
   "id": "cd331667",
   "metadata": {},
   "outputs": [],
   "source": [
    "sns.violinplot(x='quality', y='alcohol', data=df_duplicate, palette='muted', hue='quality')\n",
    "plt.title(\"Phân phối Alcohol theo các mức Quality\")\n",
    "plt.savefig('images/violin.pdf')"
   ]
  },
  {
   "cell_type": "markdown",
   "id": "044b8f77",
   "metadata": {},
   "source": [
    "### Scatter plot"
   ]
  },
  {
   "cell_type": "code",
   "execution_count": null,
   "id": "24f9899c",
   "metadata": {},
   "outputs": [],
   "source": [
    "plt.figure(figsize=(6,5))\n",
    "sns.scatterplot(x='quality', y='alcohol', data=df_duplicate, color='royalblue')\n",
    "\n",
    "plt.title(\"Mối quan hệ giữa Alcohol và Quality\", fontsize=14)\n",
    "plt.xlabel(\"Alcohol (%)\")\n",
    "plt.ylabel(\"Quality (điểm đánh giá)\")\n",
    "plt.savefig('images/scatter.pdf')\n",
    "plt.savefig('images/scatter.png')\n",
    "plt.show()"
   ]
  },
  {
   "cell_type": "markdown",
   "id": "1aa44698",
   "metadata": {},
   "source": [
    "### Boxplot"
   ]
  },
  {
   "cell_type": "code",
   "execution_count": null,
   "id": "cb0cd7f4",
   "metadata": {},
   "outputs": [],
   "source": [
    "sns.boxplot(data=df_duplicate, x='quality', y='alcohol')\n",
    "plt.title('Alcohol by Quality')\n",
    "plt.savefig('images/box.pdf')\n",
    "plt.savefig('images/box.png')\n",
    "plt.show()"
   ]
  },
  {
   "cell_type": "markdown",
   "id": "40358b22",
   "metadata": {},
   "source": [
    "Mô tả: \n",
    "- Với quality = 3: Trung vị ở mức khoảng 10.0. Phần lớn rượu có chất lượng thấp chứa lượng cồn thấp (9–11), có một vài ngoại lai dưới 9.\n",
    "\n",
    "- Với quality = 5 (chất lượng phổ biến nhất trong dataset): Trung vị ở mức khoảng 10.0, thấp hơn so với chất lượng cao hơn. Có rất nhiều outliers với alcohol > 11, nghĩa là một số rượu có cồn cao nhưng chất lượng vẫn chỉ đạt mức 5.\n",
    "\n",
    "- Với quality = 6: Trung vị ở mức khoảng 11.0. Độ phân tán lớn hơn, nhiều rượu có cồn cao hơn.\n",
    "\n",
    "- Với quality = 7 và 8: Trung vị tăng rõ rệt (~11.5–12.5). Hộp dịch lên → rượu chất lượng cao thường có cồn cao hơn và ít outliers hơn"
   ]
  },
  {
   "cell_type": "markdown",
   "id": "02900e32",
   "metadata": {},
   "source": [
    "➤ Qua các biểu đồ có thể thấy rõ, từ mức chất lượng từ 3-5, sự tương quan nồng độ cồn với chất lượng chưa thể hiện rõ, có lúc thấp lúc cao. Nhưng từ mức chất lượng từ 6 trở lên, nồng độ cồn tăng tỉ lệ thuận với chất lượng, thể hiện sức ảnh hưởng lớn của nó đến chất lượng rượu."
   ]
  },
  {
   "cell_type": "markdown",
   "id": "bf800370",
   "metadata": {},
   "source": [
    "# Tổng kết\n",
    "\n",
    "Mức phân bố chủ yếu của biến chất lượng 'quality' tập trung ở khoảng giá trị 5 và 6, có sự đồng nhất cao và ổn định ở khu vực trung tâm, IQR = 1.0.. Giá trị trung bình khoảng 5.64, trung vị là 6.0. Phân bố chất lượng có xu hướng lệch trái (Negatively Skewed) nên Trung vị là thước đo xu hướng tập trung đáng tin cậy hơn. \n",
    "\n",
    "Nồng độ cồn (alcohol) có ảnh hưởng lớn đến chất lượng rượu, độ axit dễ bay hơi có ảnh hưởng trung bình, sunfat và axit xitrit có ảnh hưởng thấp. Các biến còn lại rất kém, không đáng kể."
   ]
  }
 ],
 "metadata": {
  "kernelspec": {
   "display_name": "Python 3",
   "language": "python",
   "name": "python3"
  },
  "language_info": {
   "codemirror_mode": {
    "name": "ipython",
    "version": 3
   },
   "file_extension": ".py",
   "mimetype": "text/x-python",
   "name": "python",
   "nbconvert_exporter": "python",
   "pygments_lexer": "ipython3",
   "version": "3.9.13"
  }
 },
 "nbformat": 4,
 "nbformat_minor": 5
}
