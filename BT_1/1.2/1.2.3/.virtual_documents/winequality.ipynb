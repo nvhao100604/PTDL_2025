

















import pandas as pd  #for data manipulation operations
import numpy as np  #for numeric operations on data
import seaborn as sns  #for data visualization operations
import matplotlib.pyplot as plt  #for data visualization operations
from sklearn.preprocessing import LabelEncoder # for encoding
from sklearn.preprocessing import MinMaxScaler, RobustScaler, StandardScaler #for standardization
import plotly.express as px
import plotly.graph_objects as go
import plotly.io as pio
import scipy.stats as st

#from markupsafe import escape
#!pip install pandas-profiling
#import pandas_profiling

from sklearn.model_selection import train_test_split, GridSearchCV, cross_val_score
from sklearn.metrics import confusion_matrix, accuracy_score, classification_report
from sklearn.metrics import accuracy_score
from sklearn.metrics import roc_auc_score, roc_curve
from sklearn import model_selection
from sklearn.neighbors import KNeighborsClassifier
from sklearn.ensemble import GradientBoostingClassifier
#!pip install lightgbm
# from lightgbm import LGBMClassifier

#ignore warnings
import warnings
warnings.filterwarnings("ignore")

#see model parametres
from sklearn import set_config
set_config(print_changed_only = False)



# Đọc file winequality-red.csv
wine_data = pd.read_csv("winequality-red.csv")

# wine_data.head(5)

wine_df = wine_data.copy()
wine_df.head(n = 10).style.background_gradient(cmap = "Purples_r")





wine_df.shape





#Show the top rows of the dataframe
wine_data.head()





# Display the last five rows of the dataframe.
wine_data.tail()





wine_data.columns





wine_df.columns = [s.strip().replace(' ', '_') for s in wine_data.columns]
wine_df.columns





wine_df.describe().T.style.background_gradient(cmap = "magma")





wine_df.dtypes





print(wine_df.isnull().sum())





fig, axes = plt.subplots(1, 3, figsize = (40, 10))

sns.histplot(ax = axes[0], x = wine_df["fixed_acidity"],
             bins = 10,
             kde = True,
             color = "#CA96EC").set(title = "Distribution of 'fixed_acidity'")

sns.histplot(ax = axes[1], x = wine_df["volatile_acidity"],
             bins = 10,
             kde = True,
             color = "#A163CF").set(title = "Distribution of 'volatile_acidity'")

sns.histplot(ax = axes[2], x = wine_df["citric_acid"],
             bins = 10,
             kde = True,   
             color = "#29066B").set(title = "Distribution of 'citric_acid'")

plt.show()





fig, axes = plt.subplots(1, 3, figsize=(40, 10))

sns.histplot(ax = axes[0], x = wine_df["alcohol"],
             bins = 10,    
             kde = True,
             cbar = True,
             color = "#641811").set(title = "Distribution of 'alcohol'");

sns.histplot(ax = axes[1], x = wine_df["residual_sugar"],
             bins = 10,
             kde = True,
             cbar = True,
             color = "#EB548C").set(title = "Distribution of 'residual_sugar'");

sns.histplot(ax = axes[2], x = wine_df["chlorides"],
             bins = 10,
             kde = True,   
             cbar = True,
             color = "#EC96E0").set(title = "Distribution of 'chlorides'");

plt.show()





sns.pairplot(wine_df, diag_kind = "hist", hue = "quality", height = 3, aspect = 1.2, corner = True);
plt.show()





# Include information about values
corr = wine_data.corr()
fig, ax = plt.subplots()
fig.set_size_inches(14, 8)
sns.heatmap(corr, annot=True, fmt=".1f", cmap="RdBu", center=0, ax=ax)

plt.show()





fig, axes = plt.subplots(2, 2, figsize=(15, 10))
axes = axes.flatten()

sns.scatterplot(ax = axes[0],
                x = "residual_sugar",
                y = "quality", hue = "quality",
                data = wine_df).set(title = "Relationship between 'residual_sugar' and 'quality'");

sns.scatterplot(ax = axes[1],
                x = "alcohol",
                y = "quality", hue = "quality",
                data = wine_df).set(title = "Relationship between 'alcohol' and 'quality'");

sns.scatterplot(ax = axes[2],
                x = "pH",
                y = "quality", hue = "quality",
                data = wine_df).set(title = "Relationship between 'pH' and 'quality'");

sns.scatterplot(ax = axes[3],
                x = "density",
                y = "quality", hue = "quality",
                data = wine_df).set(title = "Relationship between 'density' and 'quality'");

plt.show()





sns.scatterplot(x = "residual_sugar",
                y = "pH",
                hue = "quality",
                data = wine_df).set(title = "Relationship between 'residual_sugar' and 'pH'");






sns.scatterplot(x = "alcohol",
                y = "pH",
                hue = "quality",
                palette = "magma",
                data = wine_df).set(title = "Relationship between 'alcohol' and 'pH'");





fig, axes = plt.subplots(nrows = 4, ncols = 3, figsize = (20, 20))

colors = ['#491D8B', '#6929C4', '#8A3FFC', '#A56EFF',
          '#7D3AC1', '#AF4BCE', '#DB4CB2', '#EB548C',
          '#EC96E0', '#A2128E', '#E8D9F3', '#641811']

for index, column in enumerate(wine_df.columns):
    ax = axes.flatten()[index]
    ax.hist(wine_df[column], color = colors[index], label = column)
    ax.legend(loc = "best")
plt.suptitle("Histograms", size = 18)

plt.show()





dataForPlot = wine_df.groupby('quality').mean().total_sulfur_dioxide
fig, ax = plt.subplots()
ax.bar(dataForPlot.index, dataForPlot, color=['C0','C1','C3','C4','C5','C6'])
ax.set_xticks([3, 4, 5, 6, 7, 8])
ax.set_xlabel('Quality')
ax.set_ylabel('Avg. Total Sulfur Dioxide')
plt.show()





dataForPlot = wine_df.groupby('quality').mean().residual_sugar
fig, ax = plt.subplots()
ax.bar(dataForPlot.index, dataForPlot, color=['C0'])
ax.set_xticks([3, 4, 5, 6, 7, 8])
ax.set_xlabel('Quality')
ax.set_ylabel('Avg. Residual Sugar')
plt.show()





wine_df.plot.scatter(x='fixed_acidity', y='pH', legend=False)
plt.show()








dataForPlot = wine_df.groupby('quality').mean().free_sulfur_dioxide
fig, ax = plt.subplots()
ax.bar(dataForPlot.index, dataForPlot, color=['C0'])
ax.set_xticks([3, 4, 5, 6, 7, 8])
ax.set_xlabel('Quality')
ax.set_ylabel('Avg. of free_sulfur_dioxide')
plt.show()








plt.boxplot([wine_df['free_sulfur_dioxide'], wine_df['total_sulfur_dioxide']], vert=False)

plt.xlabel('Sulphur Dioxide')
plt.ylabel('Wine Quality')
plt.title('Free vs Total Sulphur Dioxide in Wine')
plt.yticks([1, 2], ['Free', 'Total'])

plt.show()








# Calculate the sum of density and sum of residual sugar for each row
wine_df['sum_density_residual_sugar'] = wine_df['density'] + wine_df['residual_sugar']

# Create a scatter plot with quality as the color of each point
plt.scatter(wine_df['quality'],wine_df['sum_density_residual_sugar'],  c=wine_df['quality'])
plt.xlabel('Sum of Density and Residual Sugar')
plt.ylabel('Quality')
plt.colorbar()
plt.show()





sns.histplot(data=wine_df, x=wine_df.fixed_acidity, hue="quality", kde=True, bins=20, multiple="stack", alpha=.3)
plt.show()





def quality(variables):
    plt.figure(figsize=(16, 5))
    sns.histplot(data=wine_data, x=variables, hue="quality", kde=True,bins=20)
    if quality == "density": plt.title(f"\n{variables} of red wine\n\n")
    else: plt.title(f"\n{variables} contents in red wine\n\n")
    plt.figtext(0.75, 0.3, f'{wine_data[variables].describe()}')
    sns.despine()


quality("fixed_acidity")
plt.show





#bar chart of average quantity ordered per country
dataForPlot = wine_data.groupby('quality').mean().residual_sugar
fig, ax = plt.subplots()
ax.barh(dataForPlot.index, dataForPlot, color=['C5', 'C1'])
ax.set_xticklabels(dataForPlot.index, rotation=90)
ax.set_xlabel('Avg. of Residual Sugar')
ax.set_ylabel('Quality')
plt.show()





fig, ax = plt.subplots()
ax.hist(wine_data.density)
ax.set_axisbelow(True)  # Show the grid lines behind the histogram
ax.grid(which='major', color='grey', linestyle='--')
ax.set_xlabel('density')
ax.set_ylabel('count')
plt.show()





# Add the correlation coefficient to the scatterplots above the diagonal
from pandas.plotting import scatter_matrix, parallel_coordinates
df = wine_data[['volatile_acidity', 'sulphates', 'alcohol']]
axes = scatter_matrix(df, alpha=0.5, figsize=(6, 6), diagonal='kde') #kde is for density plots, you can use "hist" for histogram
corr = df.corr().values
for i, j in zip(*plt.np.triu_indices_from(axes, k=1)):
    axes[i, j].annotate("%.3f" %corr[i,j], (0.8, 0.8), xycoords='axes fraction', ha='center', va='center')

plt.show()





fig, axes = plt.subplots(nrows=1, ncols=3)
wine_data.boxplot(column='alcohol', by='quality', ax=axes[0])
wine_data.boxplot(column='volatile_acidity', by='quality', ax=axes[1])
wine_data.boxplot(column='sulphates', by='quality', ax=axes[2])
for ax in axes:
    ax.set_xlabel('quality')
plt.suptitle('')  # Suppress the overall title
plt.tight_layout()  # Increase the separation between the plots

plt.show()





!jupyter nbconvert --to html "winequality.ipynb"
